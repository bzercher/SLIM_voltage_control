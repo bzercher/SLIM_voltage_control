{
 "cells": [
  {
   "cell_type": "code",
   "execution_count": 1,
   "metadata": {},
   "outputs": [],
   "source": [
    "import numpy as np\n",
    "import matplotlib.pyplot as plt"
   ]
  },
  {
   "cell_type": "markdown",
   "metadata": {},
   "source": [
    "# Setting SLIM Voltages Programmatically \n",
    "\n",
    "We currently operate the SLIM instrument using an Excel spreadsheet that calculates voltages. To do so, it specifically maps each of the electrode voltages in a very unwieldy array that's hundreds of cells long. This was more reasonable when the instrument was only comprised of one IM region; as we have expanded instrument capabilities, the increase in the number of channels utilized makes voltage assignment much more complicated. \n",
    "\n",
    "Furthermore, to access new experimental methods, we need a robust way of controlling voltages in a time-dependent manner. We currently make signal tables by hand, adding voltages to individual channels at individual timepoints. Besides already being prone to human error, this method also will be very difficult as signal tables get longer and more intricate (i.e., raising voltages in a step-wise fashion over many timepoints.) Generating signal tables programmatically will already require some Python representation of our instrument, and thus meshes well with remaking the entire Excel voltage key in python.\n",
    "\n",
    "## Long-term goals\n",
    " - Duplicate the functionality of the Excel spreadsheet, namely in providing input voltages for the MIPS software\n",
    " - Graphically represent the voltages on the instrument\n",
    " - Generate signal tables using the voltage assignments of each of the channels\n",
    " - Improve record-keeping by providing a function that prints out the voltage settings for a particular run\n",
    " \n",
    "## Short-term goals (to be updated daily)\n",
    " - Define a channel class\n",
    " - Add a set_voltage method to the channel class\n",
    " - Organize channels into dictionaries depending on their MIPS input location\n",
    " - Develop a naming protocol for the *descriptions* of the channels, i.e. the physical input the channel controls\n"
   ]
  },
  {
   "cell_type": "code",
   "execution_count": 2,
   "metadata": {},
   "outputs": [],
   "source": [
    "class channel:\n",
    "    \"\"\"The channel class represents the physical voltage inputs for the SLIM instrument.\n",
    "    The channel class represents a MIPS input.\"\"\"\n",
    "    \n",
    "    def __init__(self, description, voltage):\n",
    "        self.description = description\n",
    "        self.voltage = voltage\n",
    "    \n",
    "    def set_voltage(self, new_voltage):\n",
    "        self.voltage = new_voltage"
   ]
  },
  {
   "cell_type": "code",
   "execution_count": 3,
   "metadata": {},
   "outputs": [],
   "source": [
    "class region:\n",
    "    \"\"\"The region class represents the space between two voltage inputs. \n",
    "    Over a defined length, the two voltage inputs create the separation field.\"\"\"\n",
    "    def __init__(self, description, length, field_strength):\n",
    "        self.description = description\n",
    "        self.length = length\n",
    "        self.field_strength = field_strength\n",
    "        \n",
    "    def set_length(self, new_length):\n",
    "        self.length = new_length\n",
    "        \n",
    "    def set_field_strength(self, new_field_strength):\n",
    "        self.field_strength = new_field_strength\n",
    "        \n",
    "    def voltage_drop(self):\n",
    "        voltage_drop = self.field_strength * self.length\n",
    "        return voltage_drop"
   ]
  },
  {
   "cell_type": "code",
   "execution_count": 4,
   "metadata": {},
   "outputs": [],
   "source": [
    "# Define the region and channels of the CIF\n",
    "CIF = region('CIF', 10.87, 0)\n",
    "CSSO = channel('CCSO', 0)\n",
    "CIF_CL = channel('CIFCL', 0)\n",
    "CIF_dc_out = channel('CIF_dc_out', 0)\n",
    "CIF_dc_in = channel('CIF_dc_in', 0)"
   ]
  },
  {
   "cell_type": "code",
   "execution_count": 5,
   "metadata": {},
   "outputs": [],
   "source": [
    "# Define the field strengths and voltage drops of the CIF\n",
    "CSSO.set_voltage(-110)\n",
    "CIF.set_field_strength(6)\n",
    "CIF_CL_to_CCSO_drop = 3\n",
    "CIF_to_CIF_CL_drop = 2\n",
    "CIF.set_field_strength(6)"
   ]
  },
  {
   "cell_type": "code",
   "execution_count": 7,
   "metadata": {},
   "outputs": [],
   "source": [
    "CIF_CL.set_voltage(CSSO.voltage + CIF_CL_to_CCSO_drop)\n",
    "CIF_dc_out.set_voltage(CIF_CL.voltage + CIF_to_CIF_CL_drop)\n",
    "CIF_dc_in.set_voltage(CIF_dc_out.voltage + (CIF.length * CIF.field_strength))"
   ]
  },
  {
   "cell_type": "code",
   "execution_count": 8,
   "metadata": {},
   "outputs": [
    {
     "name": "stdout",
     "output_type": "stream",
     "text": [
      "-107 -105 -40.0\n"
     ]
    }
   ],
   "source": [
    "print(CIF_CL.voltage, CIF_dc_out.voltage, np.around(CIF_dc_in.voltage))"
   ]
  },
  {
   "cell_type": "markdown",
   "metadata": {},
   "source": [
    "## SLIM 2"
   ]
  },
  {
   "cell_type": "code",
   "execution_count": 9,
   "metadata": {},
   "outputs": [],
   "source": [
    "# Define the region and channels of SLIM 2\n",
    "SLIM2 = region('SLIM2', 38.1, 0)\n",
    "SLIM2_dc_in = channel('SLIM2_dc_in', 0)\n",
    "SLIM2_dc_out = channel('SLIM2_dc_out', 0)\n",
    "SLIM2_8M_SG = channel('8M_SG', 0)"
   ]
  },
  {
   "cell_type": "code",
   "execution_count": 10,
   "metadata": {},
   "outputs": [],
   "source": [
    "#Define the field strengths and voltage drops\n",
    "SLIM2.set_field_strength(4)\n",
    "SLIM2_to_CIF_drop = 5\n",
    "SLIM2_8M_SG_bias = 4"
   ]
  },
  {
   "cell_type": "code",
   "execution_count": 15,
   "metadata": {},
   "outputs": [],
   "source": [
    "#Set SLIM2 voltages\n",
    "SLIM2_dc_out.set_voltage(CIF_dc_in.voltage + SLIM2_to_CIF_drop)\n",
    "SLIM2_dc_in.set_voltage(SLIM2_dc_out.voltage + (SLIM2.field_strength * SLIM2.length))\n",
    "SLIM2_8M_interface = (SLIM2_dc_in.voltage - (SLIM2.voltage_drop() * (25.5/250)))\n",
    "SLIM2_8M_SG.set_voltage(SLIM2_8M_interface + SLIM2_8M_SG_bias)"
   ]
  },
  {
   "cell_type": "code",
   "execution_count": 16,
   "metadata": {},
   "outputs": [
    {
     "data": {
      "text/plain": [
       "<matplotlib.collections.PathCollection at 0x1ea152e4f60>"
      ]
     },
     "execution_count": 16,
     "metadata": {},
     "output_type": "execute_result"
    },
    {
     "data": {
      "image/png": "[encoded data removed]",
      "text/plain": [
       "<Figure size 432x288 with 1 Axes>"
      ]
     },
     "metadata": {
      "needs_background": "light"
     },
     "output_type": "display_data"
    }
   ],
   "source": [
    "plt.plot([0,10.87,10.87],[CIF_dc_in.voltage,CIF_dc_out.voltage,CIF_CL.voltage])\n",
    "plt.plot([-38.1,0,], [SLIM2_dc_in.voltage, SLIM2_dc_out.voltage])\n",
    "plt.scatter([-34.2138],[SLIM2_8M_SG.voltage])"
   ]
  },
  {
   "cell_type": "markdown",
   "metadata": {},
   "source": [
    "## 8M Orth Voltages\n",
    "Note: no external resistors added yet"
   ]
  },
  {
   "cell_type": "code",
   "execution_count": 36,
   "metadata": {},
   "outputs": [],
   "source": [
    "#Define channels in the interface region\n",
    "M8_orth_out = channel('M8_orth_out', 0)\n",
    "M8_orth_in = channel('M8_orth_in', 0)\n",
    "M8_orth = region('M8_orth', 3.5052, 3.75)"
   ]
  },
  {
   "cell_type": "code",
   "execution_count": 37,
   "metadata": {},
   "outputs": [],
   "source": [
    "#Define voltage drops\n",
    "M8_orth_to_SLIM2 = 1"
   ]
  },
  {
   "cell_type": "code",
   "execution_count": 38,
   "metadata": {},
   "outputs": [],
   "source": [
    "#Set 8M voltages\n",
    "M8_orth_out.set_voltage(SLIM2_8M_interface + M8_orth_to_SLIM2)\n",
    "M8_orth_in.set_voltage(M8_orth_out.voltage + M8_orth.voltage_drop())"
   ]
  },
  {
   "cell_type": "code",
   "execution_count": 44,
   "metadata": {},
   "outputs": [
    {
     "data": {
      "text/plain": [
       "116.2197"
      ]
     },
     "execution_count": 44,
     "metadata": {},
     "output_type": "execute_result"
    }
   ],
   "source": [
    "M8_orth_in.voltage"
   ]
  },
  {
   "cell_type": "code",
   "execution_count": 39,
   "metadata": {},
   "outputs": [
    {
     "data": {
      "text/plain": [
       "[<matplotlib.lines.Line2D at 0x1ea154892e8>]"
      ]
     },
     "execution_count": 39,
     "metadata": {},
     "output_type": "execute_result"
    },
    {
     "data": {
      "image/png": "[encoded data removed]",
      "text/plain": [
       "<Figure size 432x288 with 1 Axes>"
      ]
     },
     "metadata": {
      "needs_background": "light"
     },
     "output_type": "display_data"
    }
   ],
   "source": [
    "plt.plot([0,10.87,10.87],[CIF_dc_in.voltage,CIF_dc_out.voltage,CIF_CL.voltage])\n",
    "plt.plot([-38.1,0,], [SLIM2_dc_in.voltage, SLIM2_dc_out.voltage])\n",
    "plt.scatter([-34.2138],[SLIM2_8M_SG.voltage])\n",
    "plt.plot([-34.2138, -37.719], [M8_orth_out.voltage, M8_orth_in.voltage])"
   ]
  },
  {
   "cell_type": "markdown",
   "metadata": {},
   "source": [
    "## 7M Orth Voltages"
   ]
  },
  {
   "cell_type": "code",
   "execution_count": 40,
   "metadata": {},
   "outputs": [],
   "source": [
    "#Define channels in the interface region\n",
    "M7_orth_out = channel('M7_orth_out', 0)\n",
    "M7_orth_in = channel('M7_orth_in', 0)\n",
    "M7_orth = region('M7_orth', 3.5052, 3.75)"
   ]
  },
  {
   "cell_type": "code",
   "execution_count": 45,
   "metadata": {},
   "outputs": [],
   "source": [
    "#Define drops in the region\n",
    "M7_to_M8_drop = 0"
   ]
  },
  {
   "cell_type": "code",
   "execution_count": 46,
   "metadata": {},
   "outputs": [],
   "source": [
    "M7_orth_out.set_voltage(M8_orth_in.voltage + M7_to_M8_drop)\n",
    "M7_orth_in.set_voltage(M7_orth_out.voltage + M7_orth.voltage_drop())"
   ]
  },
  {
   "cell_type": "code",
   "execution_count": 49,
   "metadata": {},
   "outputs": [
    {
     "data": {
      "text/plain": [
       "[<matplotlib.lines.Line2D at 0x1ea154f12b0>]"
      ]
     },
     "execution_count": 49,
     "metadata": {},
     "output_type": "execute_result"
    },
    {
     "data": {
      "image/png": "[encoded data removed]",
      "text/plain": [
       "<Figure size 432x288 with 1 Axes>"
      ]
     },
     "metadata": {
      "needs_background": "light"
     },
     "output_type": "display_data"
    }
   ],
   "source": [
    "plt.plot([0,10.87,10.87],[CIF_dc_in.voltage,CIF_dc_out.voltage,CIF_CL.voltage])\n",
    "plt.plot([-38.1,0,], [SLIM2_dc_in.voltage, SLIM2_dc_out.voltage])\n",
    "plt.scatter([-34.2138],[SLIM2_8M_SG.voltage])\n",
    "plt.plot([-34.2138, -37.719], [M8_orth_out.voltage, M8_orth_in.voltage])\n",
    "plt.plot([-37.719, -41.2242], [M7_orth_out.voltage, M7_orth_in.voltage])"
   ]
  },
  {
   "cell_type": "markdown",
   "metadata": {},
   "source": [
    "## SLIM 1 Voltages"
   ]
  },
  {
   "cell_type": "code",
   "execution_count": 60,
   "metadata": {},
   "outputs": [],
   "source": [
    "#Define channels and regions\n",
    "SLIM1_dc_out = channel('SLIM1_dc_out', 0)\n",
    "SLIM1_dc_in = channel('SLIM1_dc_in', 0)\n",
    "SLIM1_7M_SG = channel('SLIM1_dc_in', 0)\n",
    "SLIM1 = region('SLIM1', 45.72, 4)"
   ]
  },
  {
   "cell_type": "code",
   "execution_count": 61,
   "metadata": {},
   "outputs": [],
   "source": [
    "#Define interface and voltage drops\n",
    "SLIM1_to_7M_orth_drop = 1\n",
    "SLIM1_7M_interface = M7_orth_in.voltage"
   ]
  },
  {
   "cell_type": "code",
   "execution_count": 64,
   "metadata": {},
   "outputs": [],
   "source": [
    "#Set voltages\n",
    "SLIM1_dc_out.set_voltage(SLIM1_7M_interface - SLIM1.voltage_drop()*(25.5/250))\n",
    "SLIM1_dc_in.set_voltage(SLIM1_dc_out.voltage + SLIM1.voltage_drop())"
   ]
  },
  {
   "cell_type": "code",
   "execution_count": 67,
   "metadata": {},
   "outputs": [
    {
     "data": {
      "text/plain": [
       "[<matplotlib.lines.Line2D at 0x1ea155695f8>]"
      ]
     },
     "execution_count": 67,
     "metadata": {},
     "output_type": "execute_result"
    },
    {
     "data": {
      "image/png": "[encoded data removed]",
      "text/plain": [
       "<Figure size 432x288 with 1 Axes>"
      ]
     },
     "metadata": {
      "needs_background": "light"
     },
     "output_type": "display_data"
    }
   ],
   "source": [
    "plt.plot([0,10.87,10.87],[CIF_dc_in.voltage,CIF_dc_out.voltage,CIF_CL.voltage])\n",
    "plt.plot([-38.1,0,], [SLIM2_dc_in.voltage, SLIM2_dc_out.voltage])\n",
    "plt.scatter([-34.2138],[SLIM2_8M_SG.voltage])\n",
    "plt.plot([-34.2138, -37.719], [M8_orth_out.voltage, M8_orth_in.voltage])\n",
    "plt.plot([-34.2138, -79.9338], [SLIM1_dc_out.voltage, SLIM1_dc_in.voltage])"
   ]
  },
  {
   "cell_type": "code",
   "execution_count": null,
   "metadata": {},
   "outputs": [],
   "source": []
  }
 ],
 "metadata": {
  "kernelspec": {
   "display_name": "Python 3",
   "language": "python",
   "name": "python3"
  },
  "language_info": {
   "codemirror_mode": {
    "name": "ipython",
    "version": 3
   },
   "file_extension": ".py",
   "mimetype": "text/x-python",
   "name": "python",
   "nbconvert_exporter": "python",
   "pygments_lexer": "ipython3",
   "version": "3.7.0"
  }
 },
 "nbformat": 4,
 "nbformat_minor": 2
}
