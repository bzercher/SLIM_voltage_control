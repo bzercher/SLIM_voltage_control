{
 "cells": [
  {
   "cell_type": "code",
   "execution_count": 1,
   "metadata": {},
   "outputs": [],
   "source": [
    "import numpy as np\n",
    "import matplotlib.pyplot as plt"
   ]
  },
  {
   "cell_type": "code",
   "execution_count": 2,
   "metadata": {},
   "outputs": [],
   "source": [
    "class channel:\n",
    "    \"\"\"The channel class represents the physical voltage inputs for the SLIM instrument.\n",
    "    The channel class represents a MIPS input.\"\"\"\n",
    "    \n",
    "    def __init__(self, description, voltage):\n",
    "        self.description = description\n",
    "        self.voltage = voltage\n",
    "    \n",
    "    def set_voltage(self, new_voltage):\n",
    "        self.voltage = new_voltage\n",
    "\n",
    "class region:\n",
    "    \"\"\"The region class represents the space between two voltage inputs. \n",
    "    Over a defined length, the two voltage inputs create the separation field.\"\"\"\n",
    "    def __init__(self, description, length, field_strength):\n",
    "        self.description = description\n",
    "        self.length = length\n",
    "        self.field_strength = field_strength\n",
    "        \n",
    "    def set_length(self, new_length):\n",
    "        self.length = new_length\n",
    "        \n",
    "    def set_field_strength(self, new_field_strength):\n",
    "        self.field_strength = new_field_strength\n",
    "        \n",
    "    def voltage_drop(self):\n",
    "        voltage_drop = self.field_strength * self.length\n",
    "        return voltage_drop"
   ]
  },
  {
   "cell_type": "markdown",
   "metadata": {},
   "source": [
    "# Define channels"
   ]
  },
  {
   "cell_type": "code",
   "execution_count": 28,
   "metadata": {},
   "outputs": [],
   "source": [
    "# Define the region and channels of the CIF\n",
    "CIF = region('CIF', 10.87, 0)\n",
    "CSSO = channel('CCSO', 0)\n",
    "CIF_CL = channel('CIFCL', 0)\n",
    "CIF_dc_out = channel('CIF_dc_out', 0)\n",
    "CIF_dc_in = channel('CIF_dc_in', 0)\n",
    "\n",
    "# Define the field strengths and voltage drops of the CIF\n",
    "CSSO.set_voltage(-110)\n",
    "CIF.set_field_strength(6)\n",
    "CIF_CL_to_CCSO_drop = 3\n",
    "CIF_to_CIF_CL_drop = 2\n",
    "CIF.set_field_strength(6)\n",
    "\n",
    "# Define the region and channels of SLIM 2\n",
    "SLIM2 = region('SLIM2', 38.1, 0)\n",
    "SLIM2_dc_in = channel('SLIM2_dc_in', 0)\n",
    "SLIM2_dc_out = channel('SLIM2_dc_out', 0)\n",
    "SLIM2_8M_SG = channel('8M_SG', 0)\n",
    "\n",
    "#Define the field strengths and voltage drops\n",
    "SLIM2.set_field_strength(4)\n",
    "SLIM2_to_CIF_drop = 5\n",
    "SLIM2_8M_SG_bias = 4\n",
    "\n",
    "#Define channels in the interface region\n",
    "M8_orth_out = channel('M8_orth_out', 0)\n",
    "M8_orth_in = channel('M8_orth_in', 0)\n",
    "M8_orth = region('M8_orth', 3.5052, 3.75)\n",
    "\n",
    "#Define voltage drops\n",
    "M8_orth_to_SLIM2 = 1\n",
    "\n",
    "#Define channels in the interface region\n",
    "M7_orth_out = channel('M7_orth_out', 0)\n",
    "M7_orth_in = channel('M7_orth_in', 0)\n",
    "M7_orth = region('M7_orth', 3.5052, 3.75)\n",
    "\n",
    "#Define drops in the region\n",
    "M7_to_M8_drop = 0\n",
    "\n",
    "#Define channels and regions\n",
    "SLIM1_dc_out = channel('SLIM1_dc_out', 0)\n",
    "SLIM1_dc_in = channel('SLIM1_dc_in', 0)\n",
    "SLIM1_7M_SG = channel('SLIM1_dc_in', 0)\n",
    "SLIM1 = region('SLIM1', 45.72, 4)\n",
    "\n",
    "#Define interface and voltage drops\n",
    "SLIM1_to_7M_orth_drop = 1"
   ]
  },
  {
   "cell_type": "markdown",
   "metadata": {},
   "source": [
    "# Set Voltages"
   ]
  },
  {
   "cell_type": "code",
   "execution_count": 32,
   "metadata": {},
   "outputs": [],
   "source": [
    "#Set CIF voltages\n",
    "CIF_CL.set_voltage(CSSO.voltage + CIF_CL_to_CCSO_drop)\n",
    "CIF_dc_out.set_voltage(CIF_CL.voltage + CIF_to_CIF_CL_drop)\n",
    "CIF_dc_in.set_voltage(CIF_dc_out.voltage + (CIF.length * CIF.field_strength))\n",
    "\n",
    "#Set SLIM2 voltages\n",
    "SLIM2_dc_out.set_voltage(CIF_dc_in.voltage + SLIM2_to_CIF_drop)\n",
    "SLIM2_dc_in.set_voltage(SLIM2_dc_out.voltage + (SLIM2.field_strength * SLIM2.length))\n",
    "SLIM2_8M_interface = (SLIM2_dc_in.voltage - (SLIM2.voltage_drop() * (25.5/250)))\n",
    "SLIM2_8M_SG.set_voltage(SLIM2_8M_interface + SLIM2_8M_SG_bias)\n",
    "\n",
    "#Set 8M voltages\n",
    "M8_orth_out.set_voltage(SLIM2_8M_interface + M8_orth_to_SLIM2)\n",
    "M8_orth_in.set_voltage(M8_orth_out.voltage + M8_orth.voltage_drop())\n",
    "\n",
    "#Set 7M voltages\n",
    "M7_orth_out.set_voltage(M8_orth_in.voltage + M7_to_M8_drop)\n",
    "M7_orth_in.set_voltage(M7_orth_out.voltage + M7_orth.voltage_drop())\n",
    "SLIM1_7M_interface = M7_orth_in.voltage + SLIM1_to_7M_orth_drop\n",
    "\n",
    "#Set voltages\n",
    "SLIM1_dc_out.set_voltage(SLIM1_7M_interface - SLIM1.voltage_drop()*(25.5/250))\n",
    "SLIM1_dc_in.set_voltage(SLIM1_dc_out.voltage + SLIM1.voltage_drop())"
   ]
  },
  {
   "cell_type": "markdown",
   "metadata": {},
   "source": [
    "# Plotting"
   ]
  },
  {
   "cell_type": "code",
   "execution_count": 33,
   "metadata": {},
   "outputs": [
    {
     "data": {
      "text/plain": [
       "[<matplotlib.lines.Line2D at 0x29563456080>]"
      ]
     },
     "execution_count": 33,
     "metadata": {},
     "output_type": "execute_result"
    },
    {
     "data": {
      "image/png": "[encoded data removed]",
      "text/plain": [
       "<Figure size 432x288 with 1 Axes>"
      ]
     },
     "metadata": {
      "needs_background": "light"
     },
     "output_type": "display_data"
    }
   ],
   "source": [
    "plt.plot([0,10.87,10.87],[CIF_dc_in.voltage,CIF_dc_out.voltage,CIF_CL.voltage])\n",
    "plt.plot([-38.1,0,], [SLIM2_dc_in.voltage, SLIM2_dc_out.voltage])\n",
    "plt.scatter([-34.2138],[SLIM2_8M_SG.voltage])\n",
    "plt.plot([-34.2138, -37.719], [M8_orth_out.voltage, M8_orth_in.voltage])\n",
    "plt.plot([-34.2138, -79.9338], [SLIM1_dc_out.voltage, SLIM1_dc_in.voltage])"
   ]
  },
  {
   "cell_type": "markdown",
   "metadata": {},
   "source": [
    "# MIPS dictionary"
   ]
  },
  {
   "cell_type": "code",
   "execution_count": 35,
   "metadata": {},
   "outputs": [],
   "source": [
    "Falkor_channels = {'channel_1' : CIF_CL}"
   ]
  },
  {
   "cell_type": "code",
   "execution_count": 36,
   "metadata": {},
   "outputs": [
    {
     "data": {
      "text/plain": [
       "-107"
      ]
     },
     "execution_count": 36,
     "metadata": {},
     "output_type": "execute_result"
    }
   ],
   "source": [
    "Falkor_channels['channel_1'].voltage"
   ]
  },
  {
   "cell_type": "code",
   "execution_count": 37,
   "metadata": {},
   "outputs": [],
   "source": [
    "CIF_CL.set_voltage(0)"
   ]
  },
  {
   "cell_type": "code",
   "execution_count": 38,
   "metadata": {},
   "outputs": [
    {
     "data": {
      "text/plain": [
       "0"
      ]
     },
     "execution_count": 38,
     "metadata": {},
     "output_type": "execute_result"
    }
   ],
   "source": [
    "Falkor_channels['channel_1'].voltage"
   ]
  }
 ],
 "metadata": {
  "kernelspec": {
   "display_name": "Python 3",
   "language": "python",
   "name": "python3"
  },
  "language_info": {
   "codemirror_mode": {
    "name": "ipython",
    "version": 3
   },
   "file_extension": ".py",
   "mimetype": "text/x-python",
   "name": "python",
   "nbconvert_exporter": "python",
   "pygments_lexer": "ipython3",
   "version": "3.7.3"
  }
 },
 "nbformat": 4,
 "nbformat_minor": 2
}
