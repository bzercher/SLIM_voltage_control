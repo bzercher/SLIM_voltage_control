{
 "cells": [
  {
   "cell_type": "code",
   "execution_count": 1,
   "metadata": {},
   "outputs": [],
   "source": [
    "import numpy as np\n",
    "import matplotlib.pyplot as plt"
   ]
  },
  {
   "cell_type": "code",
   "execution_count": 2,
   "metadata": {},
   "outputs": [],
   "source": [
    "class channel:\n",
    "    \"\"\"The channel class represents the physical voltage inputs for the SLIM instrument.\n",
    "    The channel class represents a MIPS input.\"\"\"\n",
    "    \n",
    "    def __init__(self, description, voltage):\n",
    "        self.description = description\n",
    "        self.voltage = voltage\n",
    "    \n",
    "    def set_voltage(self, new_voltage):\n",
    "        self.voltage = new_voltage\n",
    "\n",
    "class region:\n",
    "    \"\"\"The region class represents the space between two voltage inputs. \n",
    "    Over a defined length, the two voltage inputs create the separation field.\"\"\"\n",
    "    def __init__(self, description, length, field_strength):\n",
    "        self.description = description\n",
    "        self.length = length\n",
    "        self.field_strength = field_strength\n",
    "        \n",
    "    def set_length(self, new_length):\n",
    "        self.length = new_length\n",
    "        \n",
    "    def set_field_strength(self, new_field_strength):\n",
    "        self.field_strength = new_field_strength\n",
    "        \n",
    "    def voltage_drop(self):\n",
    "        voltage_drop = self.field_strength * self.length\n",
    "        return voltage_drop"
   ]
  },
  {
   "cell_type": "markdown",
   "metadata": {},
   "source": [
    "# Define channels\n",
    "\n",
    "Naming conventions:\n",
    " - Tee module voltages will start with module location - M1, M7, M8 - except for SLIM1 dc out and SLIM2 dc in\n",
    " - 'SLIM1' and 'SLIM2' will be used to keep consistent with SLIM Pickens voltage keys\n",
    " - 'orth' will be used for orthogonal paths of tee modules\n"
   ]
  },
  {
   "cell_type": "code",
   "execution_count": 3,
   "metadata": {},
   "outputs": [],
   "source": [
    "# Define the region and channels of the CIF\n",
    "CIF = region('CIF', 10.87, 0)\n",
    "CSSO = channel('CCSO', 0)\n",
    "CIF_CL = channel('CIFCL', 0)\n",
    "CIF_dc_out = channel('CIF_dc_out', 0)\n",
    "CIF_dc_in = channel('CIF_dc_in', 0)\n",
    "\n",
    "# Define the field strengths and voltage drops of the CIF\n",
    "CSSO.set_voltage(-110)\n",
    "CIF.set_field_strength(6)\n",
    "CIF_CL_to_CCSO_drop = 3\n",
    "CIF_to_CIF_CL_drop = 2\n",
    "CIF.set_field_strength(6)\n",
    "\n",
    "# Define the region and channels of SLIM 2\n",
    "SLIM2 = region('SLIM2', 38.1, 0)\n",
    "SLIM2_dc_in = channel('SLIM2_dc_in', 0)\n",
    "SLIM2_dc_out = channel('SLIM2_dc_out', 0)\n",
    "M8_sg = channel('Module 8 switch guard', 0)\n",
    "\n",
    "#Define the field strengths and voltage drops\n",
    "SLIM2.set_field_strength(4)\n",
    "SLIM2_to_CIF_drop = 5\n",
    "M8_sg_bias = 4\n",
    "\n",
    "#Define channels in the interface region\n",
    "M8_orth_out = channel('M8_orth_out', 0)\n",
    "M8_orth_in = channel('M8_orth_in', 0)\n",
    "M8_orth = region('M8_orth', 3.5052, 3.75)\n",
    "SLIM2_8M_interface = 0\n",
    "\n",
    "#Define voltage drops\n",
    "M8_orth_to_SLIM2 = 1\n",
    "\n",
    "#Define channels in the interface region\n",
    "M7_orth_out = channel('M7_orth_out', 0)\n",
    "M7_orth_in = channel('M7_orth_in', 0)\n",
    "M7_orth = region('M7_orth', 3.5052, 3.75)\n",
    "SLIM1_7M_interface = 0\n",
    "\n",
    "#Define drops in the region\n",
    "M7_to_M8_drop = 0\n",
    "\n",
    "#Define channels and regions\n",
    "SLIM1_dc_out = channel('SLIM1_dc_out', 0)\n",
    "SLIM1_dc_in = channel('SLIM1_dc_in', 0)\n",
    "M7_sg = channel('Module 7 switch guard', 0)\n",
    "SLIM1 = region('SLIM1', 45.72, 4)\n",
    "\n",
    "#Define interface and voltage drops\n",
    "SLIM1_to_7M_orth_drop = 0\n",
    "M7_sg_bias = 5"
   ]
  },
  {
   "cell_type": "code",
   "execution_count": 4,
   "metadata": {},
   "outputs": [],
   "source": [
    "EMPTY = channel('Empty Channel', 0)"
   ]
  },
  {
   "cell_type": "markdown",
   "metadata": {},
   "source": [
    "# MIPS dictionaries"
   ]
  },
  {
   "cell_type": "code",
   "execution_count": 5,
   "metadata": {},
   "outputs": [],
   "source": [
    "Falkor_channels = {\n",
    "    'channel_1' : CIF_dc_in,\n",
    "    'channel_2' : CIF_dc_out,\n",
    "    'channel_3' : CIF_CL\n",
    "}"
   ]
  },
  {
   "cell_type": "code",
   "execution_count": 6,
   "metadata": {},
   "outputs": [],
   "source": [
    "MIPS_2 = {\n",
    "    'channel_1' : EMPTY,\n",
    "    'channel_2' : EMPTY,\n",
    "    'channel_3' : EMPTY,\n",
    "    'channel_4' : EMPTY,\n",
    "    'channel_5' : EMPTY,\n",
    "    'channel_6' : M7_sg,\n",
    "    'channel_7' : M7_orth_in,\n",
    "    'channel_8' : M7_orth_out,\n",
    "    'channel_9' : SLIM1_dc_out,\n",
    "    'channel_10' : M8_sg,\n",
    "    'channel_11' : M8_orth_in,\n",
    "    'channel_12' : M8_orth_out,\n",
    "    'channel_13' : SLIM2_dc_in,\n",
    "    'channel_14' : SLIM2_dc_out,\n",
    "    'channel_15' : EMPTY, \n",
    "    'channel_16' : EMPTY,\n",
    "}"
   ]
  },
  {
   "cell_type": "code",
   "execution_count": 7,
   "metadata": {},
   "outputs": [],
   "source": [
    "MIPS_1 = {\n",
    "    'channel_1' : EMPTY,\n",
    "    'channel_2' : EMPTY,\n",
    "    'channel_3' : EMPTY,\n",
    "    'channel_4' : EMPTY,\n",
    "    'channel_5' : EMPTY,\n",
    "    'channel_6' : EMPTY,\n",
    "    'channel_7' : EMPTY,\n",
    "    'channel_8' : EMPTY,\n",
    "    'channel_9' : EMPTY,\n",
    "    'channel_10' : EMPTY,\n",
    "    'channel_11' : SLIM1_dc_in,\n",
    "    'channel_12' : EMPTY,\n",
    "    'channel_13' : EMPTY,\n",
    "    'channel_14' : EMPTY,\n",
    "    'channel_15' : EMPTY, \n",
    "    'channel_16' : EMPTY,\n",
    "}"
   ]
  },
  {
   "cell_type": "markdown",
   "metadata": {},
   "source": [
    "# Set Voltages"
   ]
  },
  {
   "cell_type": "code",
   "execution_count": null,
   "metadata": {},
   "outputs": [],
   "source": [
    "# #Set CIF voltages\n",
    "# CIF_CL.set_voltage(CSSO.voltage + CIF_CL_to_CCSO_drop)\n",
    "# CIF_dc_out.set_voltage(CIF_CL.voltage + CIF_to_CIF_CL_drop)\n",
    "# CIF_dc_in.set_voltage(CIF_dc_out.voltage + (CIF.voltage_drop()))\n",
    "\n",
    "# #Set SLIM2 voltages\n",
    "# SLIM2_dc_out.set_voltage(CIF_dc_in.voltage + SLIM2_to_CIF_drop)\n",
    "# SLIM2_dc_in.set_voltage(SLIM2_dc_out.voltage + (SLIM2.field_strength * SLIM2.length))\n",
    "# SLIM2_8M_interface = (SLIM2_dc_in.voltage - (SLIM2.voltage_drop() * (25.5/250)))\n",
    "# M8_sg.set_voltage(SLIM2_8M_interface + M8_sg_bias)\n",
    "\n",
    "# #Set 8M voltages\n",
    "# M8_orth_out.set_voltage(SLIM2_8M_interface + M8_orth_to_SLIM2)\n",
    "# M8_orth_in.set_voltage(M8_orth_out.voltage + M8_orth.voltage_drop())\n",
    "\n",
    "# #Set 7M voltages\n",
    "# M7_orth_out.set_voltage(M8_orth_in.voltage + M7_to_M8_drop)\n",
    "# M7_orth_in.set_voltage(M7_orth_out.voltage + M7_orth.voltage_drop())\n",
    "# SLIM1_7M_interface = M7_orth_in.voltage + SLIM1_to_7M_orth_drop\n",
    "# M7_sg.set_voltage(SLIM1_7M_interface + M8_sg_bias)\n",
    "\n",
    "# #Set voltages\n",
    "# SLIM1_dc_out.set_voltage(SLIM1_7M_interface - SLIM1.voltage_drop()*(25.5/300))\n",
    "# SLIM1_dc_in.set_voltage(SLIM1_dc_out.voltage + SLIM1.voltage_drop())"
   ]
  },
  {
   "cell_type": "code",
   "execution_count": 8,
   "metadata": {},
   "outputs": [],
   "source": [
    "def set_voltages():\n",
    "    #Set CIF voltages\n",
    "    CIF_CL.set_voltage(CSSO.voltage + CIF_CL_to_CCSO_drop)\n",
    "    CIF_dc_out.set_voltage(CIF_CL.voltage + CIF_to_CIF_CL_drop)\n",
    "    CIF_dc_in.set_voltage(CIF_dc_out.voltage + (CIF.voltage_drop()))\n",
    "\n",
    "    #Set SLIM2 voltages\n",
    "    SLIM2_dc_out.set_voltage(CIF_dc_in.voltage + SLIM2_to_CIF_drop)\n",
    "    SLIM2_dc_in.set_voltage(SLIM2_dc_out.voltage + (SLIM2.field_strength * SLIM2.length))\n",
    "    global SLIM2_8M_interface\n",
    "    SLIM2_8M_interface = (SLIM2_dc_in.voltage - (SLIM2.voltage_drop() * (25.5/250)))\n",
    "    M8_sg.set_voltage(SLIM2_8M_interface + M8_sg_bias)\n",
    "\n",
    "    #Set 8M voltages\n",
    "    M8_orth_out.set_voltage(SLIM2_8M_interface + M8_orth_to_SLIM2)\n",
    "    M8_orth_in.set_voltage(M8_orth_out.voltage + M8_orth.voltage_drop())\n",
    "\n",
    "    #Set 7M voltages\n",
    "    M7_orth_out.set_voltage(M8_orth_in.voltage + M7_to_M8_drop)\n",
    "    M7_orth_in.set_voltage(M7_orth_out.voltage + M7_orth.voltage_drop())\n",
    "    global SLIM1_7M_interface\n",
    "    SLIM1_7M_interface = M7_orth_in.voltage + SLIM1_to_7M_orth_drop\n",
    "    M7_sg.set_voltage(SLIM1_7M_interface + M8_sg_bias)\n",
    "\n",
    "    #Set voltages\n",
    "    SLIM1_dc_out.set_voltage(SLIM1_7M_interface - SLIM1.voltage_drop()*(25.5/300))\n",
    "    SLIM1_dc_in.set_voltage(SLIM1_dc_out.voltage + SLIM1.voltage_drop())"
   ]
  },
  {
   "cell_type": "code",
   "execution_count": 9,
   "metadata": {},
   "outputs": [
    {
     "name": "stdout",
     "output_type": "stream",
     "text": [
      "102.07520000000001\n",
      "129.3642\n"
     ]
    }
   ],
   "source": [
    "set_voltages()"
   ]
  },
  {
   "cell_type": "code",
   "execution_count": null,
   "metadata": {},
   "outputs": [],
   "source": [
    "SLIM1.set_field_strength(10)"
   ]
  },
  {
   "cell_type": "markdown",
   "metadata": {},
   "source": [
    "# Plotting"
   ]
  },
  {
   "cell_type": "code",
   "execution_count": 10,
   "metadata": {},
   "outputs": [
    {
     "data": {
      "text/plain": [
       "<matplotlib.collections.PathCollection at 0x20eed876eb8>"
      ]
     },
     "execution_count": 10,
     "metadata": {},
     "output_type": "execute_result"
    },
    {
     "data": {
      "image/png": "[encoded data removed]",
      "text/plain": [
       "<Figure size 720x360 with 2 Axes>"
      ]
     },
     "metadata": {
      "needs_background": "light"
     },
     "output_type": "display_data"
    }
   ],
   "source": [
    "f, (a0, a1) = plt.subplots(1, 2, gridspec_kw={'width_ratios':[3,2]})\n",
    "f.set_figheight(5)\n",
    "f.set_figwidth(10)\n",
    "#full SLIM plot\n",
    "a0.set_title('Drift Region')\n",
    "a0.plot([0,10.87,10.87],[CIF_dc_in.voltage,CIF_dc_out.voltage,CIF_CL.voltage])\n",
    "a0.plot([-38.1,0,], [SLIM2_dc_in.voltage, SLIM2_dc_out.voltage])\n",
    "a0.plot([-34.2138, -37.719], [M8_orth_out.voltage, M8_orth_in.voltage])\n",
    "a0.plot([-37.719, -41.2242], [M7_orth_out.voltage, M7_orth_in.voltage])\n",
    "a0.plot([-37.338, -83.058], [SLIM1_dc_out.voltage, SLIM1_dc_in.voltage])\n",
    "\n",
    "#tee interface plot\n",
    "a1.set_title('Tee Interface')\n",
    "a1.scatter([-34.2138],[M8_sg.voltage])\n",
    "a1.scatter([-34.2138],[SLIM2_8M_interface])\n",
    "a1.plot([-34.2138, -37.719], [M8_orth_out.voltage, M8_orth_in.voltage])\n",
    "a1.plot([-37.719, -41.2242], [M7_orth_out.voltage, M7_orth_in.voltage])\n",
    "a1.scatter([-41.2242],[M7_sg.voltage])\n",
    "a1.scatter([-41.2242],[SLIM1_7M_interface])"
   ]
  },
  {
   "cell_type": "code",
   "execution_count": 11,
   "metadata": {},
   "outputs": [
    {
     "data": {
      "text/plain": [
       "129.3642"
      ]
     },
     "execution_count": 11,
     "metadata": {},
     "output_type": "execute_result"
    }
   ],
   "source": [
    "SLIM1_7M_interface"
   ]
  }
 ],
 "metadata": {
  "kernelspec": {
   "display_name": "Python 3",
   "language": "python",
   "name": "python3"
  },
  "language_info": {
   "codemirror_mode": {
    "name": "ipython",
    "version": 3
   },
   "file_extension": ".py",
   "mimetype": "text/x-python",
   "name": "python",
   "nbconvert_exporter": "python",
   "pygments_lexer": "ipython3",
   "version": "3.7.0"
  }
 },
 "nbformat": 4,
 "nbformat_minor": 2
}
