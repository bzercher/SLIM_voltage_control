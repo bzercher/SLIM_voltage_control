{
 "cells": [
  {
   "cell_type": "code",
   "execution_count": 1,
   "metadata": {},
   "outputs": [],
   "source": [
    "import numpy as np\n",
    "import matplotlib.pyplot as plt\n",
    "from tkinter import *\n",
    "from matplotlib.backends.backend_tkagg import FigureCanvasTkAgg\n",
    "from matplotlib.figure import Figure"
   ]
  },
  {
   "cell_type": "code",
   "execution_count": 2,
   "metadata": {},
   "outputs": [],
   "source": [
    "class channel:\n",
    "    \"\"\"The channel class represents the physical voltage inputs for the SLIM instrument.\n",
    "    The channel class represents a MIPS input.\"\"\"\n",
    "    \n",
    "    def __init__(self, description, voltage):\n",
    "        self.description = description\n",
    "        self.voltage = voltage\n",
    "    \n",
    "    def set_voltage(self, new_voltage):\n",
    "        self.voltage = new_voltage\n",
    "\n",
    "class region:\n",
    "    \"\"\"The region class represents the space between two voltage inputs. \n",
    "    Over a defined length, the two voltage inputs create the separation field.\"\"\"\n",
    "    def __init__(self, description, length, field_strength, rungs=None):\n",
    "        self.description = description\n",
    "        self.length = length\n",
    "        self.field_strength = field_strength\n",
    "        self.rungs=rungs\n",
    "        \n",
    "    def set_length(self, new_length):\n",
    "        self.length = new_length\n",
    "        \n",
    "    def set_field_strength(self, new_field_strength):\n",
    "        self.field_strength = new_field_strength\n",
    "        \n",
    "    def voltage_drop(self):\n",
    "        voltage_drop = self.field_strength * self.length\n",
    "        return voltage_drop\n",
    "    \n",
    "    def voltage_drop_per_rung(self):\n",
    "        if self.rungs == None:\n",
    "            raise ValueError('Number of rungs undefined.')\n",
    "        else:\n",
    "            voltage_drop_per_rung = self.voltage_drop() / self.rungs\n",
    "            return voltage_drop_per_rung"
   ]
  },
  {
   "cell_type": "code",
   "execution_count": 3,
   "metadata": {},
   "outputs": [],
   "source": [
    "# Define the region and channels of the CIF\n",
    "CIF = region('CIF', 10.87, 0)\n",
    "CSSO = channel('CCSO', 0)\n",
    "CIF_CL_to_CCSO_drop = 0\n",
    "CIF_CL = channel('CIFCL', 0)\n",
    "CIF_to_CIF_CL_drop = 0\n",
    "CIF_dc_out = channel('CIF_dc_out', 0)\n",
    "CIF_dc_in = channel('CIF_dc_in', 0)\n",
    "\n",
    "# Define the region and channels of SLIM 2\n",
    "SLIM2 = region('SLIM2', 38.1, 0, rungs=250)\n",
    "SLIM2_dc_in = channel('SLIM2_dc_in', 0)\n",
    "SLIM2_dc_out = channel('SLIM2_dc_out', 0)\n",
    "M8_sg = channel('Module 8 switch guard', 0)\n",
    "SLIM2_to_CIF_drop = 0\n",
    "M8_sg_bias = 0\n",
    "\n",
    "#Define channels in the interface region\n",
    "M8_orth_out = channel('M8_orth_out', 0)\n",
    "M8_orth_in = channel('M8_orth_in', 0)\n",
    "M8_orth = region('M8_orth', 3.5052, 0)\n",
    "SLIM2_8M_interface = 0\n",
    "M8_orth_to_SLIM2 = 0\n",
    "\n",
    "#Define channels in the interface region\n",
    "M7_orth_out = channel('M7_orth_out', 0)\n",
    "M7_orth_in = channel('M7_orth_in', 0)\n",
    "M7_orth = region('M7_orth', 3.5052, 0)\n",
    "SLIM1_7M_interface = 0\n",
    "\n",
    "# #Define drops in the region\n",
    "M7_to_M8_drop = 0\n",
    "\n",
    "#Define channels and regions\n",
    "SLIM1_dc_out = channel('SLIM1_dc_out', 0)\n",
    "SLIM1_dc_in = channel('SLIM1_dc_in', 0)\n",
    "M7_sg = channel('Module 7 switch guard', 0)\n",
    "SLIM1 = region('SLIM1', 45.72, 0, rungs=300)\n",
    "\n",
    "#Define interface and voltage drops\n",
    "SLIM1_to_7M_orth_drop = 0\n",
    "M7_sg_bias = 0"
   ]
  },
  {
   "cell_type": "code",
   "execution_count": 4,
   "metadata": {},
   "outputs": [],
   "source": [
    "def set_voltages():\n",
    "    #Set CIF voltages\n",
    "    CIF_CL.set_voltage(CSSO.voltage + CIF_CL_to_CCSO_drop)\n",
    "    CIF_dc_out.set_voltage(CIF_CL.voltage + CIF_to_CIF_CL_drop)\n",
    "    CIF_dc_in.set_voltage(CIF_dc_out.voltage + (CIF.voltage_drop()))\n",
    "\n",
    "    #Set SLIM2 voltages\n",
    "    SLIM2_dc_out.set_voltage(CIF_dc_in.voltage + SLIM2_to_CIF_drop)\n",
    "    SLIM2_dc_in.set_voltage(SLIM2_dc_out.voltage + (SLIM2.field_strength * SLIM2.length))\n",
    "    global SLIM2_8M_interface\n",
    "    SLIM2_8M_interface = (SLIM2_dc_in.voltage - (SLIM2.voltage_drop() * (25.5/250)))\n",
    "    M8_sg.set_voltage(SLIM2_8M_interface + M8_sg_bias)\n",
    "\n",
    "    #Set 8M voltages\n",
    "    M8_orth_out.set_voltage(SLIM2_8M_interface + M8_orth_to_SLIM2)\n",
    "    M8_orth_in.set_voltage(M8_orth_out.voltage + M8_orth.voltage_drop())\n",
    "\n",
    "    #Set 7M voltages\n",
    "    M7_orth_out.set_voltage(M8_orth_in.voltage + M7_to_M8_drop)\n",
    "    M7_orth_in.set_voltage(M7_orth_out.voltage + M7_orth.voltage_drop())\n",
    "    global SLIM1_7M_interface\n",
    "    SLIM1_7M_interface = M7_orth_in.voltage + SLIM1_to_7M_orth_drop\n",
    "    M7_sg.set_voltage(SLIM1_7M_interface + M8_sg_bias)\n",
    "\n",
    "    #Set voltages\n",
    "    SLIM1_dc_out.set_voltage(SLIM1_7M_interface - SLIM1.voltage_drop()*(25.5/300))\n",
    "    SLIM1_dc_in.set_voltage(SLIM1_dc_out.voltage + SLIM1.voltage_drop())"
   ]
  },
  {
   "cell_type": "code",
   "execution_count": 5,
   "metadata": {},
   "outputs": [],
   "source": [
    "def generatePlot():\n",
    "    f, (a0, a1) = plt.subplots(1, 2, gridspec_kw={'width_ratios':[3,2]})\n",
    "    f.set_figheight(5)\n",
    "    f.set_figwidth(10)\n",
    "    canvas = FigureCanvasTkAgg(f, master=window)\n",
    "    canvas.draw()\n",
    "    canvas.get_tk_widget().grid(column=3,rowspan=1)"
   ]
  },
  {
   "cell_type": "code",
   "execution_count": 12,
   "metadata": {},
   "outputs": [],
   "source": [
    "def plotting_function(f, a0, a1):\n",
    "#     f, (a0, a1) = plt.subplots(1, 2, gridspec_kw={'width_ratios':[3,2]})\n",
    "#     f.set_figheight(5)\n",
    "#     f.set_figwidth(10)\n",
    "    #full SLIM plot\n",
    "    a0.cla()\n",
    "    a1.cla()\n",
    "    a0.set_title('Drift Region')\n",
    "    a0.plot([0,10.87,10.87],[CIF_dc_in.voltage,CIF_dc_out.voltage,CIF_CL.voltage])\n",
    "    a0.plot([-38.1,0,], [SLIM2_dc_in.voltage, SLIM2_dc_out.voltage])\n",
    "    a0.plot([-34.2138, -37.719], [M8_orth_out.voltage, M8_orth_in.voltage])\n",
    "    a0.plot([-37.719, -41.2242], [M7_orth_out.voltage, M7_orth_in.voltage])\n",
    "    a0.plot([-37.338, -83.058], [SLIM1_dc_out.voltage, SLIM1_dc_in.voltage])\n",
    "\n",
    "    #tee interface plot\n",
    "    a1.set_title('Tee Interface')\n",
    "    a1.scatter([-34.2138],[M8_sg.voltage])\n",
    "    a1.scatter([-34.2138],[SLIM2_8M_interface])\n",
    "    a1.plot([-34.2138, -37.719], [M8_orth_out.voltage, M8_orth_in.voltage])\n",
    "    a1.plot([-37.719, -41.2242], [M7_orth_out.voltage, M7_orth_in.voltage])\n",
    "    a1.scatter([-41.2242],[M7_sg.voltage])\n",
    "    a1.scatter([-41.2242],[SLIM1_7M_interface])\n",
    "    #a1.scatter(SLIM1_7M_interface_rung_location, SLIM1_7M_interface_new)\n",
    "#     canvas = FigureCanvasTkAgg(f, master=window)\n",
    "#     canvas.draw()\n",
    "#     canvas.get_tk_widget().grid(column=3,rowspan=1)"
   ]
  },
  {
   "cell_type": "markdown",
   "metadata": {},
   "source": [
    "# Application Window"
   ]
  },
  {
   "cell_type": "code",
   "execution_count": 13,
   "metadata": {},
   "outputs": [
    {
     "data": {
      "image/png": "[encoded data removed]",
      "text/plain": [
       "<Figure size 720x360 with 2 Axes>"
      ]
     },
     "metadata": {
      "needs_background": "light"
     },
     "output_type": "display_data"
    }
   ],
   "source": [
    "window = Tk()\n",
    "window.title(\"SLIM voltage control\")\n",
    "window.geometry('1000x1000')\n",
    "\n",
    "f, (a0, a1) = plt.subplots(1, 2, gridspec_kw={'width_ratios':[3,2]})\n",
    "f.set_figheight(5)\n",
    "f.set_figwidth(10)\n",
    "canvas = FigureCanvasTkAgg(f, master=window)\n",
    "canvas.draw()\n",
    "canvas.get_tk_widget().grid(column=3,rowspan=1)\n",
    "\n",
    "#CIF Region\n",
    "ccso_lbl = Label(window, text=\"Collision Cell Static Offset\", font=(\"Arial Bold\", 10))\n",
    "ccso_lbl.grid(column=0, row=0)\n",
    "ccso_entry = Entry(window, width=5)\n",
    "ccso_entry.grid(column=1, row=0)\n",
    "\n",
    "CIF_to_CSSO_drop_lbl = Label(window, text=\"CIF CL to CSSO drop\", font=(\"Arial Bold\", 10))\n",
    "CIF_to_CSSO_drop_lbl.grid(column=0, row=1)\n",
    "CIF_to_CSSO_drop_entry = Entry(window, width=5)\n",
    "CIF_to_CSSO_drop_entry.grid(column=1, row=1)\n",
    "\n",
    "CIF_to_CIF_CL_drop_lbl = Label(window, text=\"CIF to CIF CL drop\", font=(\"Arial Bold\", 10))\n",
    "CIF_to_CIF_CL_drop_lbl.grid(column=0, row=2)\n",
    "CIF_to_CIF_CL_drop_entry = Entry(window, width=5)\n",
    "CIF_to_CIF_CL_drop_entry.grid(column=1, row=2)\n",
    "\n",
    "CIF_fs_lbl = Label(window, text=\"CIF field strength\", font=(\"Arial Bold\", 10))\n",
    "CIF_fs_lbl.grid(column=0, row=3)\n",
    "CIF_fs_entry = Entry(window, width=5)\n",
    "CIF_fs_entry.grid(column=1, row=3)\n",
    "\n",
    "#SLIM2 Region\n",
    "SLIM2_to_CIF_drop_lbl = Label(window, text=\"SLIM2 to CIF drop\", font=(\"Arial Bold\", 10))\n",
    "SLIM2_to_CIF_drop_lbl.grid(column=0, row=4)\n",
    "SLIM2_to_CIF_drop_entry = Entry(window, width=5)\n",
    "SLIM2_to_CIF_drop_entry.grid(column=1,row=4)\n",
    "\n",
    "SLIM2_fs_lbl = Label(window, text=\"SLIM2 Field Strength\", font=(\"Arial Bold\", 10))\n",
    "SLIM2_fs_lbl.grid(column=0, row=5)\n",
    "SLIM2_fs_entry = Entry(window, width=5)\n",
    "SLIM2_fs_entry.grid(column=1, row=5)\n",
    "\n",
    "#Orthogonal Region\n",
    "M8_sg_bias_lbl = Label(window, text=\"8M Switch Guard Bias\", font=(\"Arial Bold\", 10))\n",
    "M8_sg_bias_lbl.grid(column=0, row=6)\n",
    "M8_sg_bias_entry = Entry(window, width=5)\n",
    "M8_sg_bias_entry.grid(column=1, row=6)\n",
    "\n",
    "M8_orth_fs_lbl = Label(window, text=\"8M Orth Field Strength\", font=(\"Arial Bold\", 10))\n",
    "M8_orth_fs_lbl.grid(column=0, row=7)\n",
    "M8_orth_fs_entry = Entry(window, width=5)\n",
    "M8_orth_fs_entry.grid(column=1, row=7)\n",
    "\n",
    "M8_orth_to_SLIM2_lbl = Label(window, text=\"8M to SLIM2 Drop\", font=(\"Arial Bold\", 10))\n",
    "M8_orth_to_SLIM2_lbl.grid(column=0, row=8)\n",
    "M8_orth_to_SLIM2_entry = Entry(window, width=5)\n",
    "M8_orth_to_SLIM2_entry.grid(column=1, row=8)\n",
    "\n",
    "M7_to_M8_drop_lbl = Label(window, text=\"7M to 8M voltage drop\", font=(\"Arial Bold\", 10))\n",
    "M7_to_M8_drop_lbl.grid(column=0, row=9)\n",
    "M7_to_M8_drop_entry = Entry(window, width=5)\n",
    "M7_to_M8_drop_entry.grid(column=1, row=9)\n",
    "\n",
    "M7_orth_fs_lbl = Label(window, text=\"7M Orth Field Strength\", font=(\"Arial Bold\", 10))\n",
    "M7_orth_fs_lbl.grid(column=0, row=10)\n",
    "M7_orth_fs_entry = Entry(window, width=5)\n",
    "M7_orth_fs_entry.grid(column=1, row=10)\n",
    "\n",
    "#SLIM 1\n",
    "SLIM1_to_7M_orth_drop_lbl = Label(window, text=\"SLIM1 to 7M voltage drop\", font=(\"Arial Bold\", 10))\n",
    "SLIM1_to_7M_orth_drop_lbl.grid(column=0, row=11)\n",
    "SLIM1_to_7M_orth_drop_entry = Entry(window, width=5)\n",
    "SLIM1_to_7M_orth_drop_entry.grid(column=1, row=11)\n",
    "\n",
    "M7_sg_bias_lbl = Label(window, text=\"7M SG Bias\", font=(\"Arial Bold\", 10))\n",
    "M7_sg_bias_lbl.grid(column=0, row=12)\n",
    "M7_sg_bias_entry = Entry(window, width=5)\n",
    "M7_sg_bias_entry.grid(column=1, row=12)\n",
    "\n",
    "SLIM1_fs_lbl = Label(window, text=\"SLIM1 Field Strength\", font=(\"Arial Bold\", 10))\n",
    "SLIM1_fs_lbl.grid(column=0, row=13)\n",
    "SLIM1_fs_entry = Entry(window, width=5)\n",
    "SLIM1_fs_entry.grid(column=1, row=13)\n",
    "\n",
    "error_label = Label(window, text=None, font=(\"Arial Bold\", 10))\n",
    "error_label.grid(column=0, row=15)\n",
    "\n",
    "def update_voltage_settings():\n",
    "    try:\n",
    "        CSSO.set_voltage(float(ccso_entry.get()))\n",
    "        global CIF_CL_to_CCSO_drop\n",
    "        CIF_CL_to_CCSO_drop = float(CIF_to_CSSO_drop_entry.get())\n",
    "        global CIF_to_CIF_CL_drop\n",
    "        CIF_to_CIF_CL_drop = float(CIF_to_CIF_CL_drop_entry.get())\n",
    "        CIF.set_field_strength(float(CIF_fs_entry.get()))\n",
    "        global SLIM2_to_CIF_drop\n",
    "        SLIM2_to_CIF_drop = float(SLIM2_to_CIF_drop_entry.get())\n",
    "        SLIM2.set_field_strength(float(SLIM2_fs_entry.get()))\n",
    "        global M8_sg_bias\n",
    "        M8_sg_bias = float(M8_sg_bias_entry.get())\n",
    "        M8_orth.set_field_strength(float(M8_orth_fs_entry.get()))\n",
    "        global M8_orth_to_SLIM2\n",
    "        M8_orth_to_SLIM2 = float(M8_orth_to_SLIM2_entry.get())\n",
    "        global M7_to_M8_drop\n",
    "        M7_to_M8_drop = float(M7_to_M8_drop_entry.get())\n",
    "        M7_orth.set_field_strength(float(M7_orth_fs_entry.get()))\n",
    "        global SLIM1_to_7M_orth_drop\n",
    "        SLIM1_to_7M_orth_drop = float(SLIM1_to_7M_orth_drop_entry.get())\n",
    "        SLIM1.set_field_strength(float(SLIM1_fs_entry.get()))\n",
    "        global M7_sg_bias\n",
    "        M7_sg_bias = float(M7_sg_bias_entry.get())\n",
    "        error_label.configure(text=\"\")\n",
    "    except ValueError:\n",
    "        error_label.configure(text=\"Voltage entries could not be converted to numbers.\")\n",
    "\n",
    "update_voltages_btn = Button(window, text=\"Update voltages\", command=update_voltage_settings)\n",
    "update_voltages_btn.grid(column=0, row=14)\n",
    "\n",
    "set_voltages_btn = Button(window, text=\"Set Voltages\", command=set_voltages)\n",
    "set_voltages_btn.grid(column=0, row=15)\n",
    "\n",
    "# f, (a0, a1) = plt.subplots(1, 2, gridspec_kw={'width_ratios':[3,2]})\n",
    "# f.set_figheight(5)\n",
    "# f.set_figwidth(10)\n",
    "\n",
    "# canvas = FigureCanvasTkAgg(f, master=window)\n",
    "# canvas.draw()\n",
    "# canvas.get_tk_widget().grid(column=3,rowspan=1)\n",
    "\n",
    "update_graph_btn = Button(window, text=\"Update Graph\", command=plotting_function(f, a0, a1))\n",
    "update_graph_btn.grid(column=0, row=16)\n",
    "\n",
    "window.mainloop()"
   ]
  },
  {
   "cell_type": "code",
   "execution_count": 16,
   "metadata": {},
   "outputs": [
    {
     "ename": "AttributeError",
     "evalue": "'Figure' object has no attribute 'a0'",
     "output_type": "error",
     "traceback": [
      "\u001b[1;31m---------------------------------------------------------------------------\u001b[0m",
      "\u001b[1;31mAttributeError\u001b[0m                            Traceback (most recent call last)",
      "\u001b[1;32m<ipython-input-16-98bb6c8ae8d0>\u001b[0m in \u001b[0;36m<module>\u001b[1;34m()\u001b[0m\n\u001b[1;32m----> 1\u001b[1;33m \u001b[0mf\u001b[0m\u001b[1;33m.\u001b[0m\u001b[0ma0\u001b[0m\u001b[1;33m\u001b[0m\u001b[0m\n\u001b[0m",
      "\u001b[1;31mAttributeError\u001b[0m: 'Figure' object has no attribute 'a0'"
     ]
    }
   ],
   "source": []
  },
  {
   "cell_type": "code",
   "execution_count": null,
   "metadata": {},
   "outputs": [],
   "source": [
    "set_voltages()"
   ]
  },
  {
   "cell_type": "code",
   "execution_count": 8,
   "metadata": {},
   "outputs": [
    {
     "data": {
      "text/plain": [
       "<matplotlib.collections.PathCollection at 0x2244c5ae748>"
      ]
     },
     "execution_count": 8,
     "metadata": {},
     "output_type": "execute_result"
    },
    {
     "data": {
      "image/png": "[encoded data removed]",
      "text/plain": [
       "<Figure size 720x360 with 2 Axes>"
      ]
     },
     "metadata": {
      "needs_background": "light"
     },
     "output_type": "display_data"
    }
   ],
   "source": [
    "f, (a0, a1) = plt.subplots(1, 2, gridspec_kw={'width_ratios':[3,2]})\n",
    "f.set_figheight(5)\n",
    "f.set_figwidth(10)\n",
    "#full SLIM plot\n",
    "a0.set_title('Drift Region')\n",
    "a0.plot([0,10.87,10.87],[CIF_dc_in.voltage,CIF_dc_out.voltage,CIF_CL.voltage])\n",
    "a0.plot([-38.1,0,], [SLIM2_dc_in.voltage, SLIM2_dc_out.voltage])\n",
    "a0.plot([-34.2138, -37.719], [M8_orth_out.voltage, M8_orth_in.voltage])\n",
    "a0.plot([-37.719, -41.2242], [M7_orth_out.voltage, M7_orth_in.voltage])\n",
    "a0.plot([-37.338, -83.058], [SLIM1_dc_out.voltage, SLIM1_dc_in.voltage])\n",
    "\n",
    "#tee interface plot\n",
    "a1.set_title('Tee Interface')\n",
    "a1.scatter([-34.2138],[M8_sg.voltage])\n",
    "a1.scatter([-34.2138],[SLIM2_8M_interface])\n",
    "a1.plot([-34.2138, -37.719], [M8_orth_out.voltage, M8_orth_in.voltage])\n",
    "a1.plot([-37.719, -41.2242], [M7_orth_out.voltage, M7_orth_in.voltage])\n",
    "a1.scatter([-41.2242],[M7_sg.voltage])\n",
    "a1.scatter([-41.2242],[SLIM1_7M_interface])\n",
    "#a1.scatter(SLIM1_7M_interface_rung_location, SLIM1_7M_interface_new)"
   ]
  },
  {
   "cell_type": "code",
   "execution_count": null,
   "metadata": {},
   "outputs": [],
   "source": [
    "type(f)"
   ]
  },
  {
   "cell_type": "code",
   "execution_count": 17,
   "metadata": {},
   "outputs": [
    {
     "data": {
      "text/plain": [
       "<tkinter.Tk object .>"
      ]
     },
     "execution_count": 17,
     "metadata": {},
     "output_type": "execute_result"
    }
   ],
   "source": [
    "window"
   ]
  },
  {
   "cell_type": "code",
   "execution_count": null,
   "metadata": {},
   "outputs": [],
   "source": []
  }
 ],
 "metadata": {
  "kernelspec": {
   "display_name": "Python 3",
   "language": "python",
   "name": "python3"
  },
  "language_info": {
   "codemirror_mode": {
    "name": "ipython",
    "version": 3
   },
   "file_extension": ".py",
   "mimetype": "text/x-python",
   "name": "python",
   "nbconvert_exporter": "python",
   "pygments_lexer": "ipython3",
   "version": "3.7.0"
  }
 },
 "nbformat": 4,
 "nbformat_minor": 2
}
