{
 "cells": [
  {
   "cell_type": "code",
   "execution_count": 2,
   "metadata": {},
   "outputs": [],
   "source": [
    "import tkinter as tk"
   ]
  },
  {
   "cell_type": "code",
   "execution_count": null,
   "metadata": {},
   "outputs": [],
   "source": [
    "LARGE_FONT= (\"Verdana\", 10)\n",
    "\n",
    "class SLIMVoltagesApplication(tk.Tk):\n",
    "    \n",
    "    def __init__(self, *args, **kwargs):\n",
    "        tk.Tk.__init__(self, *args, **kwargs)\n",
    "        container = tk.Frame(self)\n",
    "        \n",
    "        container.pack(side=\"top\", fill=\"both\", expand=True)\n",
    "        \n",
    "        container.grid_rowconfigure(0, weight=1)\n",
    "        container.grid_columnconfigure(0, weight=1)\n",
    "        \n",
    "        self.frames = {}\n",
    "              \n",
    "        for F in (StartPage,PageOne):\n",
    "        \n",
    "            frame = F(container, self)\n",
    "\n",
    "            self.frames[F] = frame\n",
    "            \n",
    "            frame.grid(row=0, column=0, sticky=\"nsew\")\n",
    "    \n",
    "        self.show_frame(StartPage)\n",
    "    \n",
    "    def show_frame(self, cont):\n",
    "        frame = self.frames[cont]\n",
    "        frame.tkraise()\n",
    "\n",
    "class StartPage(tk.Frame):\n",
    "    \n",
    "    def __init__(self, parent, controller): \n",
    "        tk.Frame.__init__(self, parent)\n",
    "        label = tk.Label(self, text=\"Start Page\", font=LARGE_FONT)\n",
    "        label.pack(pady=10,padx=10)\n",
    "        button = tk.Button(self, text=\"Visit Page 1\", \n",
    "                            command=lambda: controller.show_frame(PageOne))\n",
    "        button.pack()\n",
    "        \n",
    "class PageOne(tk.Frame):\n",
    "    \n",
    "    def __init__(self, parent, controller): \n",
    "        tk.Frame.__init__(self, parent)\n",
    "        label = tk.Label(self, text=\"PageOne\", font=LARGE_FONT)\n",
    "        label.pack(pady=10,padx=10)\n",
    "        button = tk.Button(self, text=\"Return to Start Page\", \n",
    "                            command=lambda: controller.show_frame(StartPage))\n",
    "        button.pack()\n",
    "\n",
    "app = SLIMVoltagesApplication()\n",
    "app.mainloop()"
   ]
  },
  {
   "cell_type": "code",
   "execution_count": null,
   "metadata": {},
   "outputs": [],
   "source": []
  }
 ],
 "metadata": {
  "kernelspec": {
   "display_name": "Python 3",
   "language": "python",
   "name": "python3"
  },
  "language_info": {
   "codemirror_mode": {
    "name": "ipython",
    "version": 3
   },
   "file_extension": ".py",
   "mimetype": "text/x-python",
   "name": "python",
   "nbconvert_exporter": "python",
   "pygments_lexer": "ipython3",
   "version": "3.7.0"
  }
 },
 "nbformat": 4,
 "nbformat_minor": 2
}
