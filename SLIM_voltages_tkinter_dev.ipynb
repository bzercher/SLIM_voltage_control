{
 "cells": [
  {
   "cell_type": "code",
   "execution_count": 1,
   "metadata": {},
   "outputs": [],
   "source": [
    "import numpy as np\n",
    "import matplotlib.pyplot as plt\n",
    "from tkinter import *"
   ]
  },
  {
   "cell_type": "code",
   "execution_count": 2,
   "metadata": {},
   "outputs": [],
   "source": [
    "class channel:\n",
    "    \"\"\"The channel class represents the physical voltage inputs for the SLIM instrument.\n",
    "    The channel class represents a MIPS input.\"\"\"\n",
    "    \n",
    "    def __init__(self, description, voltage):\n",
    "        self.description = description\n",
    "        self.voltage = voltage\n",
    "    \n",
    "    def set_voltage(self, new_voltage):\n",
    "        self.voltage = new_voltage\n",
    "\n",
    "class region:\n",
    "    \"\"\"The region class represents the space between two voltage inputs. \n",
    "    Over a defined length, the two voltage inputs create the separation field.\"\"\"\n",
    "    def __init__(self, description, length, field_strength, rungs=None):\n",
    "        self.description = description\n",
    "        self.length = length\n",
    "        self.field_strength = field_strength\n",
    "        self.rungs=rungs\n",
    "        \n",
    "    def set_length(self, new_length):\n",
    "        self.length = new_length\n",
    "        \n",
    "    def set_field_strength(self, new_field_strength):\n",
    "        self.field_strength = new_field_strength\n",
    "        \n",
    "    def voltage_drop(self):\n",
    "        voltage_drop = self.field_strength * self.length\n",
    "        return voltage_drop\n",
    "    \n",
    "    def voltage_drop_per_rung(self):\n",
    "        if self.rungs == None:\n",
    "            raise ValueError('Number of rungs undefined.')\n",
    "        else:\n",
    "            voltage_drop_per_rung = self.voltage_drop() / self.rungs\n",
    "            return voltage_drop_per_rung"
   ]
  },
  {
   "cell_type": "code",
   "execution_count": 82,
   "metadata": {},
   "outputs": [],
   "source": [
    "# Define the region and channels of the CIF\n",
    "CIF = region('CIF', 10.87, 0)\n",
    "CSSO = channel('CCSO', 0)\n",
    "CIF_CL_to_CCSO_drop = 0\n",
    "CIF_CL = channel('CIFCL', 0)\n",
    "CIF_to_CIF_CL_drop = 0\n",
    "CIF_dc_out = channel('CIF_dc_out', 0)\n",
    "CIF_dc_in = channel('CIF_dc_in', 0)\n",
    "\n",
    "# Define the region and channels of SLIM 2\n",
    "SLIM2 = region('SLIM2', 38.1, 0, rungs=250)\n",
    "SLIM2_dc_in = channel('SLIM2_dc_in', 0)\n",
    "SLIM2_dc_out = channel('SLIM2_dc_out', 0)\n",
    "M8_sg = channel('Module 8 switch guard', 0)\n",
    "SLIM2_to_CIF_drop = 0\n",
    "M8_sg_bias = 0\n",
    "\n",
    "#Define channels in the interface region\n",
    "M8_orth_out = channel('M8_orth_out', 0)\n",
    "M8_orth_in = channel('M8_orth_in', 0)\n",
    "M8_orth = region('M8_orth', 3.5052, 0)\n",
    "SLIM2_8M_interface = 0\n",
    "M8_orth_to_SLIM2 = 0\n",
    "\n",
    "#Define channels in the interface region\n",
    "M7_orth_out = channel('M7_orth_out', 0)\n",
    "M7_orth_in = channel('M7_orth_in', 0)\n",
    "M7_orth = region('M7_orth', 3.5052, 3.75)\n",
    "SLIM1_7M_interface = 0\n",
    "\n",
    "# #Define drops in the region\n",
    "M7_to_M8_drop = 0\n",
    "\n",
    "# #Define channels and regions\n",
    "# SLIM1_dc_out = channel('SLIM1_dc_out', 0)\n",
    "# SLIM1_dc_in = channel('SLIM1_dc_in', 0)\n",
    "# M7_sg = channel('Module 7 switch guard', 0)\n",
    "# SLIM1 = region('SLIM1', 45.72, 4, rungs=300)\n",
    "\n",
    "# #Define interface and voltage drops\n",
    "# SLIM1_to_7M_orth_drop = 0\n",
    "# M7_sg_bias = 5"
   ]
  },
  {
   "cell_type": "markdown",
   "metadata": {},
   "source": [
    "# Application Window"
   ]
  },
  {
   "cell_type": "code",
   "execution_count": 70,
   "metadata": {},
   "outputs": [],
   "source": [
    "window = Tk()\n",
    "window.title(\"SLIM voltage control\")\n",
    "window.geometry('1000x1000')\n",
    "\n",
    "#CIF Region\n",
    "ccso_lbl = Label(window, text=\"Collision Cell Static Offset\", font=(\"Arial Bold\", 10))\n",
    "ccso_lbl.grid(column=0, row=0)\n",
    "ccso_entry = Entry(window, width=5)\n",
    "ccso_entry.grid(column=1, row=0)\n",
    "\n",
    "CIF_to_CSSO_drop_lbl = Label(window, text=\"CIF CL to CSSO drop\", font=(\"Arial Bold\", 10))\n",
    "CIF_to_CSSO_drop_lbl.grid(column=0, row=1)\n",
    "CIF_to_CSSO_drop_entry = Entry(window, width=5)\n",
    "CIF_to_CSSO_drop_entry.grid(column=1, row=1)\n",
    "\n",
    "CIF_to_CIF_CL_drop_lbl = Label(window, text=\"CIF to CIF CL drop\", font=(\"Arial Bold\", 10))\n",
    "CIF_to_CIF_CL_drop_lbl.grid(column=0, row=2)\n",
    "CIF_to_CIF_CL_drop_entry = Entry(window, width=5)\n",
    "CIF_to_CIF_CL_drop_entry.grid(column=1, row=2)\n",
    "\n",
    "CIF_fs_lbl = Label(window, text=\"CIF field strength\", font=(\"Arial Bold\", 10))\n",
    "CIF_fs_lbl.grid(column=0, row=3)\n",
    "CIF_fs_entry = Entry(window, width=5)\n",
    "CIF_fs_entry.grid(column=1, row=3)\n",
    "\n",
    "#SLIM2 Region\n",
    "SLIM2_to_CIF_drop_lbl = Label(window, text=\"SLIM2 to CIF drop\", font=(\"Arial Bold\", 10))\n",
    "SLIM2_to_CIF_drop_lbl.grid(column=0, row=4)\n",
    "SLIM2_to_CIF_drop_entry = Entry(window, width=5)\n",
    "SLIM2_to_CIF_drop_entry.grid(column=1,row=4)\n",
    "\n",
    "SLIM2_fs_lbl = Label(window, text=\"SLIM2 Field Strength\", font=(\"Arial Bold\", 10))\n",
    "SLIM2_fs_lbl.grid(column=0, row=5)\n",
    "SLIM2_fs_entry = Entry(window, width=5)\n",
    "SLIM2_fs_entry.grid(column=1, row=5)\n",
    "\n",
    "#Orthogonal Region\n",
    "M8_sg_bias_lbl = Label(window, text=\"8M Switch Guard Bias\", font=(\"Arial Bold\", 10))\n",
    "M8_sg_bias_lbl.grid(column=0, row=6)\n",
    "M8_sg_bias_entry = Entry(window, width=5)\n",
    "M8_sg_bias_entry.grid(column=1, row=6)\n",
    "\n",
    "M8_orth_fs_lbl = Label(window, text=\"8M Orth Field Strength\", font=(\"Arial Bold\", 10))\n",
    "M8_orth_fs_lbl.grid(column=0, row=7)\n",
    "M8_orth_fs_entry = Entry(window, width=5)\n",
    "M8_orth_fs_entry.grid(column=1, row=7)\n",
    "\n",
    "M8_orth_to_SLIM2_lbl = Label(window, text=\"8M Orth Field Strength\", font=(\"Arial Bold\", 10))\n",
    "M8_orth_to_SLIM2_lbl.grid(column=0, row=8)\n",
    "M8_orth_to_SLIM2_entry = Entry(window, width=5)\n",
    "M8_orth_to_SLIM2_entry.grid(column=1, row=8)\n",
    "\n",
    "M7_to_M8_drop_lbl = Label(window, text=\"7M to 8M voltage drop\"), font=(\"Arial Bold\", 10))\n",
    "M7_to_M8_drop_lbl.grid(column=0, row=9)\n",
    "M7_to_M8_drop_entry = Entry(window, width=5)\n",
    "M7_to_M8_drop_entry.grid(column=1, row=9)\n",
    "\n",
    "def update_voltage_settings():\n",
    "    CSSO.set_voltage(int(ccso_entry.get()))\n",
    "    global CIF_CL_to_CCSO_drop\n",
    "    CIF_CL_to_CCSO_drop = int(CIF_to_CSSO_drop_entry.get())\n",
    "    global CIF_to_CIF_CL_drop\n",
    "    CIF_to_CIF_CL_drop = int(CIF_to_CIF_CL_drop_entry.get())\n",
    "    CIF.set_field_strength(int(CIF_fs_entry.get()))\n",
    "    global SLIM2_to_CIF_drop\n",
    "    SLIM2_to_CIF_drop = int(SLIM2_to_CIF_drop_entry.get())\n",
    "    SLIM2.set_field_strength(int(SLIM2_fs_entry.get()))\n",
    "    global M8_sg_bias\n",
    "    M8_sg_bias = int(M8_sg_bias_entry.get())\n",
    "    M8_orth.set_field_strength(int(M8_orth_fs_entry.get()))\n",
    "    global M8_orth_to_SLIM2\n",
    "    M8_orth_to_SLIM2 = int(M8_orth_to_SLIM2_entry.get())\n",
    "    global M7_to_M8_drop\n",
    "    M7_to_M8_drop = \n",
    "\n",
    "update_voltages_btn = Button(window, text=\"Update voltages\", command=update_voltage_settings)\n",
    "update_voltages_btn.grid(column=2, row=0)\n",
    "\n",
    "window.mainloop()"
   ]
  },
  {
   "cell_type": "code",
   "execution_count": 71,
   "metadata": {},
   "outputs": [
    {
     "data": {
      "text/plain": [
       "2"
      ]
     },
     "execution_count": 71,
     "metadata": {},
     "output_type": "execute_result"
    }
   ],
   "source": [
    "CSSO.voltage"
   ]
  },
  {
   "cell_type": "code",
   "execution_count": 72,
   "metadata": {},
   "outputs": [
    {
     "data": {
      "text/plain": [
       "2"
      ]
     },
     "execution_count": 72,
     "metadata": {},
     "output_type": "execute_result"
    }
   ],
   "source": [
    "CIF_CL_to_CCSO_drop"
   ]
  },
  {
   "cell_type": "code",
   "execution_count": 73,
   "metadata": {},
   "outputs": [
    {
     "data": {
      "text/plain": [
       "2"
      ]
     },
     "execution_count": 73,
     "metadata": {},
     "output_type": "execute_result"
    }
   ],
   "source": [
    "CIF.field_strength"
   ]
  },
  {
   "cell_type": "code",
   "execution_count": 74,
   "metadata": {},
   "outputs": [
    {
     "data": {
      "text/plain": [
       "2"
      ]
     },
     "execution_count": 74,
     "metadata": {},
     "output_type": "execute_result"
    }
   ],
   "source": [
    "CIF_to_CIF_CL_drop"
   ]
  },
  {
   "cell_type": "code",
   "execution_count": 75,
   "metadata": {},
   "outputs": [
    {
     "data": {
      "text/plain": [
       "2"
      ]
     },
     "execution_count": 75,
     "metadata": {},
     "output_type": "execute_result"
    }
   ],
   "source": [
    "SLIM2_to_CIF_drop"
   ]
  },
  {
   "cell_type": "code",
   "execution_count": 76,
   "metadata": {},
   "outputs": [
    {
     "data": {
      "text/plain": [
       "2"
      ]
     },
     "execution_count": 76,
     "metadata": {},
     "output_type": "execute_result"
    }
   ],
   "source": [
    "SLIM2.field_strength"
   ]
  },
  {
   "cell_type": "code",
   "execution_count": 77,
   "metadata": {},
   "outputs": [
    {
     "data": {
      "text/plain": [
       "2"
      ]
     },
     "execution_count": 77,
     "metadata": {},
     "output_type": "execute_result"
    }
   ],
   "source": [
    "M8_sg_bias"
   ]
  },
  {
   "cell_type": "code",
   "execution_count": 78,
   "metadata": {},
   "outputs": [
    {
     "data": {
      "text/plain": [
       "2"
      ]
     },
     "execution_count": 78,
     "metadata": {},
     "output_type": "execute_result"
    }
   ],
   "source": [
    "M8_orth.field_strength"
   ]
  },
  {
   "cell_type": "code",
   "execution_count": null,
   "metadata": {},
   "outputs": [],
   "source": []
  }
 ],
 "metadata": {
  "kernelspec": {
   "display_name": "Python 3",
   "language": "python",
   "name": "python3"
  },
  "language_info": {
   "codemirror_mode": {
    "name": "ipython",
    "version": 3
   },
   "file_extension": ".py",
   "mimetype": "text/x-python",
   "name": "python",
   "nbconvert_exporter": "python",
   "pygments_lexer": "ipython3",
   "version": "3.7.0"
  }
 },
 "nbformat": 4,
 "nbformat_minor": 2
}
