{
 "cells": [
  {
   "cell_type": "code",
   "execution_count": 1,
   "metadata": {},
   "outputs": [],
   "source": [
    "''' tk_entry_loop2.py\n",
    "exploring Tkinter multiple labeled entry widgets\n",
    "and using a for loop to create the widgets\n",
    "'''\n",
    "from functools import partial\n",
    "try:\n",
    "    # Python2\n",
    "    import Tkinter as tk\n",
    "except ImportError:\n",
    "    # Python3\n",
    "    import tkinter as tk\n",
    "\n",
    "class Gui(tk.Tk):\n",
    "    def __init__(self):\n",
    "        # the root will be self\n",
    "        tk.Tk.__init__(self)\n",
    "        self.title('multiple labeled entries')\n",
    "        self.entries = []\n",
    "        for n in range(20):\n",
    "            # create left side info labels\n",
    "            tk.Label(self, text=\"%2d: \" % n).grid(row=n, column=0)\n",
    "            # create entries list\n",
    "            self.entries.append(tk.Entry(self, bg='yellow', width=40))\n",
    "            # grid layout the entries\n",
    "            self.entries[n].grid(row=n, column=1)\n",
    "            # bind the entries return key pressed to an action\n",
    "            self.entries[n].bind('<Return>', partial(self.action, n))\n",
    "        # test, load one entry\n",
    "        self.entries[0].insert('end', 'enter a word in an entry')\n",
    "    def action(self, ix, event):\n",
    "        '''this entry return key pressed'''\n",
    "        text = self.entries[ix].get()\n",
    "        info = \"entry ix=%d text=%s\" % (ix, text)\n",
    "        # use first entry to show test results\n",
    "        # clear old text\n",
    "        self.entries[0].delete(0, 'end')\n",
    "        # insert new text\n",
    "        self.entries[0].insert('end', info)\n",
    "    def run(self):\n",
    "        self.mainloop()\n",
    "# test the potential module\n",
    "if __name__ == '__main__':\n",
    "    Gui().run()"
   ]
  },
  {
   "cell_type": "code",
   "execution_count": 2,
   "metadata": {},
   "outputs": [],
   "source": [
    "class channel:\n",
    "    \"\"\"The channel class represents a MIPS output voltage which\n",
    "    applies the voltage on the SLIM instrument.\"\"\"\n",
    "    \n",
    "    def __init__(self, description, voltage):\n",
    "        self.description = description\n",
    "        self.voltage = voltage\n",
    "    \n",
    "    def set_voltage(self, new_voltage):\n",
    "        self.voltage = new_voltage\n",
    "\n",
    "class region:\n",
    "    \"\"\"The region class represents the space between two voltage inputs. \n",
    "    Over a defined length, the two voltage inputs create the separation field.\"\"\"\n",
    "    def __init__(self, description, length, field_strength, rungs=None):\n",
    "        self.description = description\n",
    "        self.length = length\n",
    "        self.field_strength = field_strength\n",
    "        self.rungs=rungs\n",
    "        \n",
    "    def set_length(self, new_length):\n",
    "        self.length = new_length\n",
    "        \n",
    "    def set_field_strength(self, new_field_strength):\n",
    "        self.field_strength = new_field_strength\n",
    "        \n",
    "    def voltage_drop(self):\n",
    "        voltage_drop = self.field_strength * self.length\n",
    "        return voltage_drop\n",
    "    \n",
    "    def voltage_drop_per_rung(self):\n",
    "        if self.rungs == None:\n",
    "            raise ValueError('Number of rungs undefined.')\n",
    "        else:\n",
    "            voltage_drop_per_rung = self.voltage_drop() / self.rungs\n",
    "            return voltage_drop_per_rung\n",
    "        \n",
    "class voltage_setting:\n",
    "    \"\"\"This class defines the relationship between two channels, two regions, or an interface.\n",
    "    Setting voltages using variables has been problematic due to scope and reassignment.\"\"\"\n",
    "    \n",
    "    def __init__(self, description, voltage):\n",
    "        self.description = description\n",
    "        self.voltage = voltage\n",
    "    \n",
    "    def set_voltage(self, new_voltage):\n",
    "        self.voltage = new_voltage"
   ]
  },
  {
   "cell_type": "code",
   "execution_count": 3,
   "metadata": {},
   "outputs": [],
   "source": [
    "CIF = region('CIF', 10.87, 0)\n",
    "CSSO = channel('CSSO', 0)\n",
    "CIF_CL_to_CCSO_drop = voltage_setting('CIF CL to CSSO drop', 0)\n",
    "CIF_CL = channel('CIFCL', 0)\n",
    "CIF_to_CIF_CL_drop = voltage_setting('CIF to CIF CL drop', 0)\n",
    "CIF_dc_out = channel('CIF_dc_out', 0)\n",
    "CIF_dc_in = channel('CIF_dc_in', 0)\n",
    "\n",
    "# Define the region and channels of SLIM 2\n",
    "SLIM2 = region('SLIM2', 38.1, 0, rungs=250)\n",
    "SLIM2_dc_in = channel('SLIM2_dc_in', 0)\n",
    "SLIM2_dc_out = channel('SLIM2_dc_out', 0)\n",
    "M8_sg = channel('Module 8 switch guard', 0)\n",
    "SLIM2_to_CIF_drop = voltage_setting('SLIM2 to CIF drop', 0)\n",
    "M8_sg_bias = voltage_setting('8M Switch Guard Bias', 0)\n",
    "\n",
    "#Define channels in the interface region\n",
    "M8_orth_out = channel('M8_orth_out', 0)\n",
    "M8_orth_in = channel('M8_orth_in', 0)\n",
    "M8_orth = region('M8_orth', 3.5052, 0)\n",
    "SLIM2_8M_interface = 0\n",
    "M8_orth_to_SLIM2 = voltage_setting('M8 Orth to SLIM2 drop', 0)\n",
    "\n",
    "#Define channels in the interface region\n",
    "M7_orth_out = channel('M7_orth_out', 0)\n",
    "M7_orth_in = channel('M7_orth_in', 0)\n",
    "M7_orth = region('M7_orth', 3.5052, 0)\n",
    "SLIM1_7M_interface = 0\n",
    "\n",
    "# #Define drops in the region\n",
    "M7_to_M8_drop = voltage_setting('M7 to M8 drop', 0)\n",
    "\n",
    "#Define channels and regions\n",
    "SLIM1_dc_out = channel('SLIM1_dc_out', 0)\n",
    "SLIM1_dc_in = channel('SLIM1_dc_in', 0)\n",
    "M7_sg = channel('Module 7 switch guard', 0)\n",
    "SLIM1 = region('SLIM1', 45.72, 0, rungs=300)\n",
    "\n",
    "#Define interface and voltage drops\n",
    "SLIM1_to_7M_orth_drop = voltage_setting('SLIM1 to 7M drop', 0)\n",
    "M7_sg_bias = voltage_setting('7M Switch Guard Bias', 0)\n",
    "\n",
    "EMPTY = channel('Empty Channel', 0)"
   ]
  },
  {
   "cell_type": "code",
   "execution_count": 4,
   "metadata": {},
   "outputs": [],
   "source": [
    "entry_objects = [CSSO, CIF_CL_to_CCSO_drop, CIF_to_CIF_CL_drop, CIF, SLIM2_to_CIF_drop, SLIM2, \n",
    "                 M8_sg_bias, M8_orth, M8_orth_to_SLIM2, M7_to_M8_drop, M7_orth, SLIM1_to_7M_orth_drop,\n",
    "                 M7_sg_bias, SLIM1]\n",
    "# def update_voltage_settings():\n",
    "#             try:\n",
    "#                 CSSO.set_voltage(float(ccso_entry.get()))\n",
    "#                 global CIF_CL_to_CCSO_drop\n",
    "#                 CIF_CL_to_CCSO_drop = float(CIF_to_CSSO_drop_entry.get())\n",
    "#                 global CIF_to_CIF_CL_drop\n",
    "#                 CIF_to_CIF_CL_drop = float(CIF_to_CIF_CL_drop_entry.get())\n",
    "#                 CIF.set_field_strength(float(CIF_fs_entry.get()))\n",
    "#                 global SLIM2_to_CIF_drop\n",
    "#                 SLIM2_to_CIF_drop = float(SLIM2_to_CIF_drop_entry.get())\n",
    "#                 SLIM2.set_field_strength(float(SLIM2_fs_entry.get()))\n",
    "#                 global M8_sg_bias\n",
    "#                 M8_sg_bias = float(M8_sg_bias_entry.get())\n",
    "#                 M8_orth.set_field_strength(float(M8_orth_fs_entry.get()))\n",
    "#                 global M8_orth_to_SLIM2\n",
    "#                 M8_orth_to_SLIM2 = float(M8_orth_to_SLIM2_entry.get())\n",
    "#                 global M7_to_M8_drop\n",
    "#                 M7_to_M8_drop = float(M7_to_M8_drop_entry.get())\n",
    "#                 M7_orth.set_field_strength(float(M7_orth_fs_entry.get()))\n",
    "#                 global SLIM1_to_7M_orth_drop\n",
    "#                 SLIM1_to_7M_orth_drop = float(SLIM1_to_7M_orth_drop_entry.get())\n",
    "#                 SLIM1.set_field_strength(float(SLIM1_fs_entry.get()))\n",
    "#                 global M7_sg_bias\n",
    "#                 M7_sg_bias = float(M7_sg_bias_entry.get())\n",
    "#                 error_label.configure(text=\"\")"
   ]
  },
  {
   "cell_type": "code",
   "execution_count": 5,
   "metadata": {},
   "outputs": [],
   "source": [
    "Falkor_channels = {\n",
    "    1 : CSSO,\n",
    "    2 : CIF_dc_in,\n",
    "    3 : CIF_dc_out,\n",
    "    4 : CIF_CL\n",
    "}"
   ]
  },
  {
   "cell_type": "code",
   "execution_count": 6,
   "metadata": {},
   "outputs": [],
   "source": [
    "from tkinter import StringVar"
   ]
  },
  {
   "cell_type": "code",
   "execution_count": 7,
   "metadata": {},
   "outputs": [],
   "source": [
    "class Gui(tk.Tk):\n",
    "    def __init__(self):\n",
    "        # the root will be self\n",
    "        tk.Tk.__init__(self)\n",
    "        self.title('multiple labeled entries')\n",
    "        self.entries = []\n",
    "        for n in range(14):\n",
    "            # create left side info labels\n",
    "            tk.Label(self, text=\"%s: \" % entry_objects[n].description).grid(row=n, column=0)\n",
    "            # create entries list\n",
    "            self.entries.append(tk.Entry(self, width=20))\n",
    "            # grid layout the entries\n",
    "            self.entries[n].grid(row=n, column=1)\n",
    "            # bind the entries return key pressed to an action\n",
    "            self.entries[n].bind('<Tab>', partial(self.action, n))\n",
    "        #add live labels\n",
    "        var = StringVar()\n",
    "        var.set = CSSO.description\n",
    "        tk.Label(self, text=\"%s: \" % CSSO.description).grid(row=0, column=2)\n",
    "        tk.Label(self, text= var).grid(row=0, column=3)\n",
    "#        inc = 1\n",
    "#         for i in Falkor_channels:\n",
    "#             tk.Label(self, text=\"%s: \" % Falkor_channels[i].description).grid(row=inc, column=2)\n",
    "#             tk.Label(self, text=\"%s\" % Falkor_channels[i].voltage).grid(row=inc, column=3)\n",
    "#             inc+=1\n",
    "    def action(self, ix, event):\n",
    "        '''this entry return key pressed'''\n",
    "        new_voltage = float(self.entries[ix].get())\n",
    "        # use first entry to show test results\n",
    "        # clear old text\n",
    "        if type(entry_objects[ix]) == region:\n",
    "            print(\"region loop entered\")\n",
    "            print(entry_objects[ix])\n",
    "            print(entry_objects[ix].description)\n",
    "            print(new_voltage)\n",
    "            entry_objects[ix].set_field_strength(new_voltage)\n",
    "        else:\n",
    "            entry_objects[ix].set_voltage(new_voltage)\n",
    "    def run(self):\n",
    "        self.mainloop()\n",
    "# test the potential module\n",
    "if __name__ == '__main__':\n",
    "    Gui().run()"
   ]
  },
  {
   "cell_type": "code",
   "execution_count": 8,
   "metadata": {},
   "outputs": [
    {
     "data": {
      "text/plain": [
       "0"
      ]
     },
     "execution_count": 8,
     "metadata": {},
     "output_type": "execute_result"
    }
   ],
   "source": [
    "CSSO.voltage"
   ]
  },
  {
   "cell_type": "code",
   "execution_count": 9,
   "metadata": {},
   "outputs": [
    {
     "data": {
      "text/plain": [
       "0"
      ]
     },
     "execution_count": 9,
     "metadata": {},
     "output_type": "execute_result"
    }
   ],
   "source": [
    "CIF_CL_to_CCSO_drop.voltage"
   ]
  },
  {
   "cell_type": "code",
   "execution_count": 10,
   "metadata": {},
   "outputs": [
    {
     "data": {
      "text/plain": [
       "0"
      ]
     },
     "execution_count": 10,
     "metadata": {},
     "output_type": "execute_result"
    }
   ],
   "source": [
    "CIF.field_strength"
   ]
  },
  {
   "cell_type": "code",
   "execution_count": 11,
   "metadata": {},
   "outputs": [
    {
     "name": "stdout",
     "output_type": "stream",
     "text": [
      "0\n",
      "0\n",
      "0\n",
      "0\n",
      "0\n",
      "0\n",
      "0\n",
      "0\n",
      "0\n",
      "0\n",
      "0\n",
      "0\n",
      "0\n",
      "0\n"
     ]
    }
   ],
   "source": [
    "for i in entry_objects:\n",
    "    if type(i) == region:\n",
    "        print(i.field_strength)\n",
    "    else:\n",
    "        print(i.voltage)"
   ]
  },
  {
   "cell_type": "code",
   "execution_count": 14,
   "metadata": {},
   "outputs": [],
   "source": [
    "from tkinter import filedialog"
   ]
  },
  {
   "cell_type": "code",
   "execution_count": 19,
   "metadata": {},
   "outputs": [],
   "source": [
    "dummy_dict = {\"channel_1\" : 5, \"channel_2\" : 7}"
   ]
  },
  {
   "cell_type": "code",
   "execution_count": 22,
   "metadata": {},
   "outputs": [],
   "source": [
    "def write_file():\n",
    "    file = filedialog.asksaveasfile()\n",
    "    for i in dummy_dict:\n",
    "        file.write(i + \": \" + str(dummy_dict[i]) + \" V \\n\")\n",
    "    file.close()"
   ]
  },
  {
   "cell_type": "code",
   "execution_count": 23,
   "metadata": {},
   "outputs": [],
   "source": [
    "class Gui(tk.Tk):\n",
    "    def __init__(self):\n",
    "        # the root will be self\n",
    "        tk.Tk.__init__(self)\n",
    "        button = tk.Button(self, text=\"save as\", command=write_file).pack()\n",
    "    def run(self):\n",
    "        self.mainloop()\n",
    "# test the potential module\n",
    "if __name__ == '__main__':\n",
    "    Gui().run()"
   ]
  },
  {
   "cell_type": "code",
   "execution_count": null,
   "metadata": {},
   "outputs": [],
   "source": []
  }
 ],
 "metadata": {
  "kernelspec": {
   "display_name": "Python 3",
   "language": "python",
   "name": "python3"
  },
  "language_info": {
   "codemirror_mode": {
    "name": "ipython",
    "version": 3
   },
   "file_extension": ".py",
   "mimetype": "text/x-python",
   "name": "python",
   "nbconvert_exporter": "python",
   "pygments_lexer": "ipython3",
   "version": "3.7.0"
  }
 },
 "nbformat": 4,
 "nbformat_minor": 2
}
