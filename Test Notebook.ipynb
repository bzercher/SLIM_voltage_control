{
 "cells": [
  {
   "cell_type": "code",
   "execution_count": 16,
   "metadata": {},
   "outputs": [],
   "source": [
    "''' tk_entry_loop2.py\n",
    "exploring Tkinter multiple labeled entry widgets\n",
    "and using a for loop to create the widgets\n",
    "'''\n",
    "from functools import partial\n",
    "try:\n",
    "    # Python2\n",
    "    import Tkinter as tk\n",
    "except ImportError:\n",
    "    # Python3\n",
    "    import tkinter as tk\n",
    "\n",
    "class Gui(tk.Tk):\n",
    "    def __init__(self):\n",
    "        # the root will be self\n",
    "        tk.Tk.__init__(self)\n",
    "        self.title('multiple labeled entries')\n",
    "        self.entries = []\n",
    "        for n in range(20):\n",
    "            # create left side info labels\n",
    "            tk.Label(self, text=\"%2d: \" % n).grid(row=n, column=0)\n",
    "            # create entries list\n",
    "            self.entries.append(tk.Entry(self, bg='yellow', width=40))\n",
    "            # grid layout the entries\n",
    "            self.entries[n].grid(row=n, column=1)\n",
    "            # bind the entries return key pressed to an action\n",
    "            self.entries[n].bind('<Return>', partial(self.action, n))\n",
    "        # test, load one entry\n",
    "        self.entries[0].insert('end', 'enter a word in an entry')\n",
    "    def action(self, ix, event):\n",
    "        '''this entry return key pressed'''\n",
    "        text = self.entries[ix].get()\n",
    "        info = \"entry ix=%d text=%s\" % (ix, text)\n",
    "        # use first entry to show test results\n",
    "        # clear old text\n",
    "        self.entries[0].delete(0, 'end')\n",
    "        # insert new text\n",
    "        self.entries[0].insert('end', info)\n",
    "    def run(self):\n",
    "        self.mainloop()\n",
    "# test the potential module\n",
    "if __name__ == '__main__':\n",
    "    Gui().run()"
   ]
  },
  {
   "cell_type": "code",
   "execution_count": 58,
   "metadata": {},
   "outputs": [],
   "source": [
    "class channel:\n",
    "    \"\"\"The channel class represents a MIPS output voltage which\n",
    "    applies the voltage on the SLIM instrument.\"\"\"\n",
    "    \n",
    "    def __init__(self, description, voltage):\n",
    "        self.description = description\n",
    "        self.voltage = voltage\n",
    "    \n",
    "    def set_voltage(self, new_voltage):\n",
    "        self.voltage = new_voltage\n",
    "\n",
    "class region:\n",
    "    \"\"\"The region class represents the space between two voltage inputs. \n",
    "    Over a defined length, the two voltage inputs create the separation field.\"\"\"\n",
    "    def __init__(self, description, length, field_strength, rungs=None):\n",
    "        self.description = description\n",
    "        self.length = length\n",
    "        self.field_strength = field_strength\n",
    "        self.rungs=rungs\n",
    "        \n",
    "    def set_length(self, new_length):\n",
    "        self.length = new_length\n",
    "        \n",
    "    def set_field_strength(self, new_field_strength):\n",
    "        self.field_strength = new_field_strength\n",
    "        \n",
    "    def voltage_drop(self):\n",
    "        voltage_drop = self.field_strength * self.length\n",
    "        return voltage_drop\n",
    "    \n",
    "    def voltage_drop_per_rung(self):\n",
    "        if self.rungs == None:\n",
    "            raise ValueError('Number of rungs undefined.')\n",
    "        else:\n",
    "            voltage_drop_per_rung = self.voltage_drop() / self.rungs\n",
    "            return voltage_drop_per_rung\n",
    "        \n",
    "class voltage_setting:\n",
    "    \"\"\"This class defines the relationship between two channels, two regions, or an interface.\n",
    "    Setting voltages using variables has been problematic due to scope and reassignment.\"\"\"\n",
    "    \n",
    "    def __init__(self, description, voltage):\n",
    "        self.description = description\n",
    "        self.voltage = voltage\n",
    "    \n",
    "    def set_voltage(self, new_voltage):\n",
    "        self.voltage = new_voltage"
   ]
  },
  {
   "cell_type": "code",
   "execution_count": 25,
   "metadata": {},
   "outputs": [],
   "source": [
    "CIF = region('CIF', 10.87, 0)\n",
    "CSSO = channel('CCSO', 0)\n",
    "CIF_CL_to_CCSO_drop = 0\n",
    "CIF_CL = channel('CIFCL', 0)\n",
    "CIF_to_CIF_CL_drop = 0\n",
    "CIF_dc_out = channel('CIF_dc_out', 0)\n",
    "CIF_dc_in = channel('CIF_dc_in', 0)\n",
    "\n",
    "# Define the region and channels of SLIM 2\n",
    "SLIM2 = region('SLIM2', 38.1, 0, rungs=250)\n",
    "SLIM2_dc_in = channel('SLIM2_dc_in', 0)\n",
    "SLIM2_dc_out = channel('SLIM2_dc_out', 0)\n",
    "M8_sg = channel('Module 8 switch guard', 0)\n",
    "SLIM2_to_CIF_drop = 0\n",
    "M8_sg_bias = 0\n",
    "\n",
    "#Define channels in the interface region\n",
    "M8_orth_out = channel('M8_orth_out', 0)\n",
    "M8_orth_in = channel('M8_orth_in', 0)\n",
    "M8_orth = region('M8_orth', 3.5052, 0)\n",
    "SLIM2_8M_interface = 0\n",
    "M8_orth_to_SLIM2 = 0\n",
    "\n",
    "#Define channels in the interface region\n",
    "M7_orth_out = channel('M7_orth_out', 0)\n",
    "M7_orth_in = channel('M7_orth_in', 0)\n",
    "M7_orth = region('M7_orth', 3.5052, 0)\n",
    "SLIM1_7M_interface = 0\n",
    "\n",
    "# #Define drops in the region\n",
    "M7_to_M8_drop = 0\n",
    "\n",
    "#Define channels and regions\n",
    "SLIM1_dc_out = channel('SLIM1_dc_out', 0)\n",
    "SLIM1_dc_in = channel('SLIM1_dc_in', 0)\n",
    "M7_sg = channel('Module 7 switch guard', 0)\n",
    "SLIM1 = region('SLIM1', 45.72, 0, rungs=300)\n",
    "\n",
    "#Define interface and voltage drops\n",
    "SLIM1_to_7M_orth_drop = 0\n",
    "M7_sg_bias = 0\n",
    "\n",
    "EMPTY = channel('Empty Channel', 0)"
   ]
  },
  {
   "cell_type": "code",
   "execution_count": 26,
   "metadata": {},
   "outputs": [],
   "source": [
    "entry_labels = [\"Collision Cell Static Offset\", \"CIF CL to CSSO drop\", \"CIF to CIF CL drop\", \"CIF field strength\", \n",
    "                \"SLIM2 to CIF drop\", \"SLIM2 Field Strength\", \"8M Switch Guard Bias\", \"8M Orth Field Strength\",\n",
    "                \"8M to SLIM2 Drop\", \"7M to 8M voltage drop\", \"7M Orth Field Strength\", \"SLIM1 to 7M voltage drop\",\n",
    "                \"7M SG Bias\", \"SLIM1 Field Strength\"]"
   ]
  },
  {
   "cell_type": "code",
   "execution_count": 27,
   "metadata": {},
   "outputs": [],
   "source": [
    "entry_objects = [CSSO, CIF_CL_to_CCSO_drop, CIF_to_CIF_CL_drop, CIF, SLIM2_to_CIF_drop, SLIM2, \n",
    "                 M8_sg_bias, M8_orth, M8_orth_to_SLIM2, M7_to_M8_drop, M7_orth, SLIM1_to_7M_orth_drop,\n",
    "                 M7_sg_bias, SLIM1]\n",
    "# def update_voltage_settings():\n",
    "#             try:\n",
    "#                 CSSO.set_voltage(float(ccso_entry.get()))\n",
    "#                 global CIF_CL_to_CCSO_drop\n",
    "#                 CIF_CL_to_CCSO_drop = float(CIF_to_CSSO_drop_entry.get())\n",
    "#                 global CIF_to_CIF_CL_drop\n",
    "#                 CIF_to_CIF_CL_drop = float(CIF_to_CIF_CL_drop_entry.get())\n",
    "#                 CIF.set_field_strength(float(CIF_fs_entry.get()))\n",
    "#                 global SLIM2_to_CIF_drop\n",
    "#                 SLIM2_to_CIF_drop = float(SLIM2_to_CIF_drop_entry.get())\n",
    "#                 SLIM2.set_field_strength(float(SLIM2_fs_entry.get()))\n",
    "#                 global M8_sg_bias\n",
    "#                 M8_sg_bias = float(M8_sg_bias_entry.get())\n",
    "#                 M8_orth.set_field_strength(float(M8_orth_fs_entry.get()))\n",
    "#                 global M8_orth_to_SLIM2\n",
    "#                 M8_orth_to_SLIM2 = float(M8_orth_to_SLIM2_entry.get())\n",
    "#                 global M7_to_M8_drop\n",
    "#                 M7_to_M8_drop = float(M7_to_M8_drop_entry.get())\n",
    "#                 M7_orth.set_field_strength(float(M7_orth_fs_entry.get()))\n",
    "#                 global SLIM1_to_7M_orth_drop\n",
    "#                 SLIM1_to_7M_orth_drop = float(SLIM1_to_7M_orth_drop_entry.get())\n",
    "#                 SLIM1.set_field_strength(float(SLIM1_fs_entry.get()))\n",
    "#                 global M7_sg_bias\n",
    "#                 M7_sg_bias = float(M7_sg_bias_entry.get())\n",
    "#                 error_label.configure(text=\"\")"
   ]
  },
  {
   "cell_type": "code",
   "execution_count": 45,
   "metadata": {},
   "outputs": [
    {
     "name": "stdout",
     "output_type": "stream",
     "text": [
      "Voltage is 0\n",
      "This is just a straight voltgae\n",
      "This is just a straight voltgae\n",
      "0\n",
      "This is just a straight voltgae\n",
      "0\n",
      "This is just a straight voltgae\n",
      "0\n",
      "This is just a straight voltgae\n",
      "This is just a straight voltgae\n",
      "0\n",
      "This is just a straight voltgae\n",
      "This is just a straight voltgae\n",
      "0\n"
     ]
    }
   ],
   "source": [
    "for i in entry_objects:\n",
    "    if type(i) == region:\n",
    "        print(i.field_strength)\n",
    "    elif type(i) == channel:\n",
    "        print('Voltage is ' + str(i.voltage))\n",
    "    else:\n",
    "        print('This is just a straight voltgae')"
   ]
  },
  {
   "cell_type": "code",
   "execution_count": 54,
   "metadata": {},
   "outputs": [
    {
     "name": "stdout",
     "output_type": "stream",
     "text": [
      "<__main__.channel object at 0x000001B86529D3C8>\n",
      "0\n",
      "0\n",
      "<__main__.region object at 0x000001B86529D358>\n"
     ]
    }
   ],
   "source": [
    "class Gui(tk.Tk):\n",
    "    def __init__(self):\n",
    "        # the root will be self\n",
    "        tk.Tk.__init__(self)\n",
    "        self.title('multiple labeled entries')\n",
    "        self.entries = []\n",
    "        for n in range(14):\n",
    "            # create left side info labels\n",
    "            tk.Label(self, text=\"%s: \" % entry_labels[n]).grid(row=n, column=0)\n",
    "            # create entries list\n",
    "            self.entries.append(tk.Entry(self, width=20))\n",
    "            # grid layout the entries\n",
    "            self.entries[n].grid(row=n, column=1)\n",
    "            # bind the entries return key pressed to an action\n",
    "            self.entries[n].bind('<Return>', partial(self.action, n))\n",
    "    def action(self, ix, event):\n",
    "        '''this entry return key pressed'''\n",
    "        voltage = int(self.entries[ix].get())\n",
    "        voltage_object = entry_objects[ix]\n",
    "        print(voltage_object)\n",
    "        # use first entry to show test results\n",
    "        # clear old text\n",
    "        if type(voltage_object) == region:\n",
    "            voltage_object.set_field_strength(voltage)\n",
    "        elif type(voltage_object) == channel:\n",
    "            voltage_object.set_voltage(voltage)\n",
    "        else:\n",
    "            voltage_object = voltage\n",
    "    def run(self):\n",
    "        self.mainloop()\n",
    "# test the potential module\n",
    "if __name__ == '__main__':\n",
    "    Gui().run()"
   ]
  },
  {
   "cell_type": "code",
   "execution_count": 53,
   "metadata": {},
   "outputs": [
    {
     "data": {
      "text/plain": [
       "120"
      ]
     },
     "execution_count": 53,
     "metadata": {},
     "output_type": "execute_result"
    }
   ],
   "source": [
    "CSSO.voltage"
   ]
  },
  {
   "cell_type": "code",
   "execution_count": 55,
   "metadata": {},
   "outputs": [
    {
     "data": {
      "text/plain": [
       "0"
      ]
     },
     "execution_count": 55,
     "metadata": {},
     "output_type": "execute_result"
    }
   ],
   "source": [
    "CIF_CL_to_CCSO_drop"
   ]
  },
  {
   "cell_type": "code",
   "execution_count": 56,
   "metadata": {},
   "outputs": [
    {
     "data": {
      "text/plain": [
       "6"
      ]
     },
     "execution_count": 56,
     "metadata": {},
     "output_type": "execute_result"
    }
   ],
   "source": [
    "CIF.field_strength"
   ]
  },
  {
   "cell_type": "code",
   "execution_count": 57,
   "metadata": {},
   "outputs": [
    {
     "data": {
      "text/plain": [
       "[<__main__.channel at 0x1b86529d3c8>,\n",
       " 0,\n",
       " 0,\n",
       " <__main__.region at 0x1b86529d358>,\n",
       " 0,\n",
       " <__main__.region at 0x1b86731c828>,\n",
       " 0,\n",
       " <__main__.region at 0x1b86731c668>,\n",
       " 0,\n",
       " 0,\n",
       " <__main__.region at 0x1b86731c048>,\n",
       " 0,\n",
       " 0,\n",
       " <__main__.region at 0x1b8672f0cc0>]"
      ]
     },
     "execution_count": 57,
     "metadata": {},
     "output_type": "execute_result"
    }
   ],
   "source": [
    "entry_objects"
   ]
  },
  {
   "cell_type": "code",
   "execution_count": null,
   "metadata": {},
   "outputs": [],
   "source": []
  }
 ],
 "metadata": {
  "kernelspec": {
   "display_name": "Python 3",
   "language": "python",
   "name": "python3"
  },
  "language_info": {
   "codemirror_mode": {
    "name": "ipython",
    "version": 3
   },
   "file_extension": ".py",
   "mimetype": "text/x-python",
   "name": "python",
   "nbconvert_exporter": "python",
   "pygments_lexer": "ipython3",
   "version": "3.7.0"
  }
 },
 "nbformat": 4,
 "nbformat_minor": 2
}
