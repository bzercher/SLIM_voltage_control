{
 "cells": [
  {
   "cell_type": "code",
   "execution_count": 1,
   "metadata": {},
   "outputs": [],
   "source": [
    "from tkinter import *\n",
    "\n",
    "from matplotlib.backends.backend_tkagg import FigureCanvasTkAgg\n",
    "# Implement the default Matplotlib key bindings.\n",
    "from matplotlib.figure import Figure\n",
    "\n",
    "# import numpy as np\n",
    "\n",
    "\n",
    "# root = tkinter.Tk()\n",
    "# root.wm_title(\"Embedding in Tk\")\n",
    "\n",
    "# fig = Figure(figsize=(5, 4), dpi=100)\n",
    "# t = np.arange(0, 3, .01)\n",
    "# fig.add_subplot(111).plot(t, 2 * np.sin(2 * np.pi * t))\n",
    "\n",
    "# canvas = FigureCanvasTkAgg(fig, master=root)  # A tk.DrawingArea.\n",
    "# canvas.draw()\n",
    "\n",
    "# button = tkinter.Button(master=root, text=\"Quit\", command=root.quit)\n",
    "\n",
    "# # Packing order is important. Widgets are processed sequentially and if there\n",
    "# # is no space left, because the window is too small, they are not displayed.\n",
    "# # The canvas is rather flexible in its size, so we pack it last which makes\n",
    "# # sure the UI controls are displayed as long as possible.\n",
    "# button.pack(side=tkinter.BOTTOM)\n",
    "# canvas.get_tk_widget().pack(side=tkinter.TOP, fill=tkinter.BOTH, expand=1)\n",
    "\n",
    "# tkinter.mainloop()"
   ]
  },
  {
   "cell_type": "code",
   "execution_count": 2,
   "metadata": {},
   "outputs": [],
   "source": [
    "import numpy as np"
   ]
  },
  {
   "cell_type": "code",
   "execution_count": 8,
   "metadata": {},
   "outputs": [],
   "source": [
    "def generatePlot():\n",
    "    f = Figure(figsize=(10,8), dpi=100)\n",
    "    \n",
    "    # Setup subplots\n",
    "    f.subplot1=f.add_subplot(2,1,1)\n",
    "    f.subplot2=f.add_subplot(2,1,2)\n",
    "    \n",
    "    #Show plots\n",
    "    dataPlot = FigureCanvasTkAgg(f, master=window)\n",
    "    dataPlot.draw()\n",
    "    dataPlot.get_tk_widget().pack(side=RIGHT, fill=BOTH, expand=True)\n",
    "    \n",
    "def plotData(data, otherdata):\n",
    "    subplot1.cla()\n",
    "    subplot2.cla()\n",
    "    subplot1.plot(data)\n",
    "    subplot2.plot(otherdata)"
   ]
  },
  {
   "cell_type": "code",
   "execution_count": 12,
   "metadata": {},
   "outputs": [],
   "source": [
    "window = Tk()\n",
    "window.title(\"SLIM voltage control\")\n",
    "window.geometry('1000x1000')\n",
    "\n",
    "generatePlot()\n",
    "\n",
    "\n",
    "#CIF Region\n",
    "x1_data_lbl = Label(window, text=\"X1\", font=(\"Arial Bold\", 10))\n",
    "x1_data_lbl.pack(side=LEFT)\n",
    "x1_data_entry = Entry(window, width=5)\n",
    "x1_data_entry.pack(side=LEFT)\n",
    "\n",
    "x2_data_lbl = Label(window, text=\"X2\", font=(\"Arial Bold\", 10))\n",
    "x2_data_lbl.pack(side=LEFT)\n",
    "x2_data_entry = Entry(window, width=5)\n",
    "x2_data_entry.pack(side=LEFT)\n",
    "\n",
    "y1_data_lbl = Label(window, text=\"Y1\", font=(\"Arial Bold\", 10))\n",
    "y1_data_lbl.pack(side=LEFT)\n",
    "y1_data_entry = Entry(window, width=5)\n",
    "y1_data_entry.pack(side=LEFT)\n",
    "\n",
    "y1_data_lbl = Label(window, text=\"Y2\", font=(\"Arial Bold\", 10))\n",
    "y1_data_lbl.pack(side=LEFT)\n",
    "y1_data_entry = Entry(window, width=5)\n",
    "y1_data_entry.pack(side=LEFT)\n",
    "\n",
    "window.mainloop()"
   ]
  },
  {
   "cell_type": "code",
   "execution_count": null,
   "metadata": {},
   "outputs": [],
   "source": []
  }
 ],
 "metadata": {
  "kernelspec": {
   "display_name": "Python 3",
   "language": "python",
   "name": "python3"
  },
  "language_info": {
   "codemirror_mode": {
    "name": "ipython",
    "version": 3
   },
   "file_extension": ".py",
   "mimetype": "text/x-python",
   "name": "python",
   "nbconvert_exporter": "python",
   "pygments_lexer": "ipython3",
   "version": "3.7.0"
  }
 },
 "nbformat": 4,
 "nbformat_minor": 2
}
