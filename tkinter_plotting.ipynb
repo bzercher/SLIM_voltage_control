{
 "cells": [
  {
   "cell_type": "code",
   "execution_count": 1,
   "metadata": {},
   "outputs": [],
   "source": [
    "from tkinter import *\n",
    "\n",
    "from matplotlib.backends.backend_tkagg import FigureCanvasTkAgg\n",
    "# Implement the default Matplotlib key bindings.\n",
    "from matplotlib.figure import Figure\n",
    "\n",
    "# import numpy as np\n",
    "\n",
    "\n",
    "# root = tkinter.Tk()\n",
    "# root.wm_title(\"Embedding in Tk\")\n",
    "\n",
    "# fig = Figure(figsize=(5, 4), dpi=100)\n",
    "# t = np.arange(0, 3, .01)\n",
    "# fig.add_subplot(111).plot(t, 2 * np.sin(2 * np.pi * t))\n",
    "\n",
    "# canvas = FigureCanvasTkAgg(fig, master=root)  # A tk.DrawingArea.\n",
    "# canvas.draw()\n",
    "\n",
    "# button = tkinter.Button(master=root, text=\"Quit\", command=root.quit)\n",
    "\n",
    "# # Packing order is important. Widgets are processed sequentially and if there\n",
    "# # is no space left, because the window is too small, they are not displayed.\n",
    "# # The canvas is rather flexible in its size, so we pack it last which makes\n",
    "# # sure the UI controls are displayed as long as possible.\n",
    "# button.pack(side=tkinter.BOTTOM)\n",
    "# canvas.get_tk_widget().pack(side=tkinter.TOP, fill=tkinter.BOTH, expand=1)\n",
    "\n",
    "# tkinter.mainloop()"
   ]
  },
  {
   "cell_type": "code",
   "execution_count": 2,
   "metadata": {},
   "outputs": [],
   "source": [
    "import numpy as np"
   ]
  },
  {
   "cell_type": "code",
   "execution_count": 7,
   "metadata": {},
   "outputs": [],
   "source": [
    "window = Tk()\n",
    "window.title(\"SLIM voltage control\")\n",
    "window.geometry('1000x1000')\n",
    "\n",
    "#CIF Region\n",
    "ccso_lbl = Label(window, text=\"Collision Cell Static Offset\", font=(\"Arial Bold\", 10))\n",
    "ccso_lbl.grid(column=0, row=0)\n",
    "ccso_entry = Entry(window, width=5)\n",
    "ccso_entry.grid(column=1, row=0)\n",
    "\n",
    "\n",
    "\n",
    "update_voltages_btn = Button(window, text=\"Update voltages\")\n",
    "update_voltages_btn.grid(column=0, row=1)\n",
    "\n",
    "set_voltages_btn = Button(window, text=\"Set Voltages\")\n",
    "set_voltages_btn.grid(column=1, row=1)\n",
    "\n",
    "fig = Figure(figsize=(5, 4), dpi=100)\n",
    "t = np.arange(0, 3, .01)\n",
    "fig.add_subplot(111).plot(t, 2 * np.sin(2 * np.pi * t))\n",
    "\n",
    "canvas = FigureCanvasTkAgg(fig, master=window)  # A tk.DrawingArea.\n",
    "canvas.draw()\n",
    "canvas.get_tk_widget().grid(column=0, row=2)\n",
    "\n",
    "window.mainloop()"
   ]
  },
  {
   "cell_type": "code",
   "execution_count": null,
   "metadata": {},
   "outputs": [],
   "source": []
  }
 ],
 "metadata": {
  "kernelspec": {
   "display_name": "Python 3",
   "language": "python",
   "name": "python3"
  },
  "language_info": {
   "codemirror_mode": {
    "name": "ipython",
    "version": 3
   },
   "file_extension": ".py",
   "mimetype": "text/x-python",
   "name": "python",
   "nbconvert_exporter": "python",
   "pygments_lexer": "ipython3",
   "version": "3.7.0"
  }
 },
 "nbformat": 4,
 "nbformat_minor": 2
}
